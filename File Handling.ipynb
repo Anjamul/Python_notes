{
 "cells": [
  {
   "cell_type": "code",
   "execution_count": 10,
   "metadata": {},
   "outputs": [],
   "source": [
    "f=open(\"G:\\\\python_file_handling\\\\first.txt\")"
   ]
  },
  {
   "cell_type": "code",
   "execution_count": 20,
   "metadata": {},
   "outputs": [],
   "source": [
    "f.close()"
   ]
  },
  {
   "cell_type": "code",
   "execution_count": 21,
   "metadata": {},
   "outputs": [],
   "source": [
    "f=open(\"G:\\\\python_file_handling\\\\first.txt\")"
   ]
  },
  {
   "cell_type": "code",
   "execution_count": 22,
   "metadata": {},
   "outputs": [
    {
     "name": "stdout",
     "output_type": "stream",
     "text": [
      "Name\t\tMaths\t\tScience\t\tEnglish\n",
      "Anjamul\t\t87\t\t98\t\t92\n",
      "Nihar\t\t74\t\t70\t\t72\n",
      "Bhim\t\t68\t\t65\t\t75\n",
      "Gaurav\t\t60\t\t54\t\t62\n"
     ]
    }
   ],
   "source": [
    "print(f.read())"
   ]
  },
  {
   "cell_type": "code",
   "execution_count": 23,
   "metadata": {},
   "outputs": [],
   "source": [
    "f.close()"
   ]
  },
  {
   "cell_type": "code",
   "execution_count": 25,
   "metadata": {},
   "outputs": [],
   "source": [
    "l=[\"Chirag\",78,45,100]"
   ]
  },
  {
   "cell_type": "code",
   "execution_count": 27,
   "metadata": {},
   "outputs": [],
   "source": [
    "f=open(\":\\\\python_file_handling\\\\first.txt\",'a')"
   ]
  },
  {
   "cell_type": "code",
   "execution_count": 33,
   "metadata": {},
   "outputs": [
    {
     "data": {
      "text/plain": [
       "19"
      ]
     },
     "execution_count": 33,
     "metadata": {},
     "output_type": "execute_result"
    }
   ],
   "source": [
    "f.write(\"\\nChirag\\t\\t70\\t\\t45\\t\\t60\")"
   ]
  },
  {
   "cell_type": "code",
   "execution_count": 34,
   "metadata": {},
   "outputs": [],
   "source": [
    "f.close()"
   ]
  },
  {
   "cell_type": "code",
   "execution_count": 36,
   "metadata": {},
   "outputs": [],
   "source": [
    "f=open(\"G:\\\\python_file_handling\\\\first.txt\")"
   ]
  },
  {
   "cell_type": "code",
   "execution_count": 37,
   "metadata": {},
   "outputs": [
    {
     "name": "stdout",
     "output_type": "stream",
     "text": [
      "Name\t\tMaths\t\tScience\t\tEnglish\n",
      "Anjamul\t\t87\t\t98\t\t92\n",
      "Nihar\t\t74\t\t70\t\t72\n",
      "Bhim\t\t68\t\t65\t\t75\n",
      "Gaurav\t\t60\t\t54\t\t62\n",
      "Chirag\t\t70\t\t45\t\t60\n"
     ]
    }
   ],
   "source": [
    "print(f.read())"
   ]
  },
  {
   "cell_type": "code",
   "execution_count": 38,
   "metadata": {},
   "outputs": [],
   "source": [
    "f.close()"
   ]
  },
  {
   "cell_type": "code",
   "execution_count": 39,
   "metadata": {},
   "outputs": [],
   "source": [
    "f=open(\"G:\\\\python_file_handling\\\\first.txt\")"
   ]
  },
  {
   "cell_type": "code",
   "execution_count": 40,
   "metadata": {},
   "outputs": [],
   "source": [
    "data=f.read()"
   ]
  },
  {
   "cell_type": "code",
   "execution_count": 41,
   "metadata": {},
   "outputs": [],
   "source": [
    "f.close()"
   ]
  },
  {
   "cell_type": "code",
   "execution_count": 42,
   "metadata": {},
   "outputs": [
    {
     "ename": "ValueError",
     "evalue": "I/O operation on closed file.",
     "output_type": "error",
     "traceback": [
      "\u001b[1;31m---------------------------------------------------------------------------\u001b[0m",
      "\u001b[1;31mValueError\u001b[0m                                Traceback (most recent call last)",
      "\u001b[1;32m<ipython-input-42-571e9fb02258>\u001b[0m in \u001b[0;36m<module>\u001b[1;34m()\u001b[0m\n\u001b[1;32m----> 1\u001b[1;33m \u001b[0mf\u001b[0m\u001b[1;33m.\u001b[0m\u001b[0mread\u001b[0m\u001b[1;33m(\u001b[0m\u001b[1;33m)\u001b[0m\u001b[1;33m\u001b[0m\u001b[0m\n\u001b[0m",
      "\u001b[1;31mValueError\u001b[0m: I/O operation on closed file."
     ]
    }
   ],
   "source": [
    "f.read()"
   ]
  },
  {
   "cell_type": "code",
   "execution_count": 44,
   "metadata": {},
   "outputs": [
    {
     "name": "stdout",
     "output_type": "stream",
     "text": [
      "Name\t\tMaths\t\tScience\t\tEnglish\n",
      "Anjamul\t\t87\t\t98\t\t92\n",
      "Nihar\t\t74\t\t70\t\t72\n",
      "Bhim\t\t68\t\t65\t\t75\n",
      "Gaurav\t\t60\t\t54\t\t62\n",
      "Chirag\t\t70\t\t45\t\t60\n"
     ]
    }
   ],
   "source": [
    "print(data)"
   ]
  },
  {
   "cell_type": "code",
   "execution_count": 56,
   "metadata": {},
   "outputs": [],
   "source": []
  },
  {
   "cell_type": "code",
   "execution_count": 95,
   "metadata": {},
   "outputs": [],
   "source": [
    "with open(\"G:\\\\python_file_handling\\\\first.txt\",'a') as f:\n",
    "    l=[\"Saloni\",74,42,10]\n",
    "    s=\"\\n\"+l[0]\n",
    "    for i in range(1,len(l)):\n",
    "        s+=\"\\t\\t\"+str(l[i])\n",
    "    f.write(s)\n",
    "    \n",
    "    "
   ]
  },
  {
   "cell_type": "code",
   "execution_count": 96,
   "metadata": {},
   "outputs": [],
   "source": [
    "with open(\"G:\\\\python_file_handling\\\\first.txt\") as f:\n",
    "    data=f.read()"
   ]
  },
  {
   "cell_type": "code",
   "execution_count": 97,
   "metadata": {},
   "outputs": [
    {
     "data": {
      "text/plain": [
       "'Name\\t\\tMaths\\t\\tScience\\t\\tEnglish\\nAnjamul\\t\\t87\\t\\t98\\t\\t92\\nNihar\\t\\t74\\t\\t70\\t\\t72\\nBhim\\t\\t68\\t\\t65\\t\\t75\\nGaurav\\t\\t60\\t\\t54\\t\\t62\\nChirag\\t\\t70\\t\\t45\\t\\t60\\t\\tSaloni\\t\\t74\\t\\t42\\t\\t10Saloni\\t\\t1\\t\\t2\\t\\t3Saloni\\t\\t74\\t\\t42\\t\\t10Saloni\\t\\t74\\t\\t42\\t\\t10\\nSaloni\\t\\t74\\t\\t42\\t\\t10\\nSaloni\\t\\t74\\t\\t42\\t\\t10'"
      ]
     },
     "execution_count": 97,
     "metadata": {},
     "output_type": "execute_result"
    }
   ],
   "source": [
    "data"
   ]
  },
  {
   "cell_type": "code",
   "execution_count": 104,
   "metadata": {},
   "outputs": [
    {
     "name": "stdout",
     "output_type": "stream",
     "text": [
      "Name\t\tMaths\t\tScience\t\tEnglish\n",
      "Anjamul\t\t87\t\t98\t\t92\n",
      "Nihar\t\t74\t\t70\t\t72\n",
      "Bhim\t\t68\t\t65\t\t75\n",
      "Gaurav\t\t60\t\t54\t\t62\n",
      "Saloni\t\t74\t\t42\t\t10\n",
      "\n"
     ]
    }
   ],
   "source": [
    "s=\"\"\n",
    "l=[]\n",
    "for i in data:\n",
    "    s=s+i\n",
    "    if i==\"\\n\":\n",
    "        l.append([s])\n",
    "        s=\"\"\n",
    "l.remove(l[len(l)-2])\n",
    "fordata=\"\"\n",
    "for i in range(len(l)):\n",
    "    fordata+=l[i][0]\n",
    "    \n",
    "#for i in range(len(data.split())//4+2):\n",
    "    "
   ]
  },
  {
   "cell_type": "code",
   "execution_count": 105,
   "metadata": {},
   "outputs": [
    {
     "data": {
      "text/plain": [
       "'Name\\t\\tMaths\\t\\tScience\\t\\tEnglish\\nAnjamul\\t\\t87\\t\\t98\\t\\t92\\nNihar\\t\\t74\\t\\t70\\t\\t72\\nBhim\\t\\t68\\t\\t65\\t\\t75\\nGaurav\\t\\t60\\t\\t54\\t\\t62\\nSaloni\\t\\t74\\t\\t42\\t\\t10\\n'"
      ]
     },
     "execution_count": 105,
     "metadata": {},
     "output_type": "execute_result"
    }
   ],
   "source": [
    "fordata"
   ]
  },
  {
   "cell_type": "code",
   "execution_count": 106,
   "metadata": {},
   "outputs": [],
   "source": [
    "with open(\"G:\\\\python_file_handling\\\\first.txt\",'w')as f:\n",
    "    f.write(fordata)"
   ]
  },
  {
   "cell_type": "code",
   "execution_count": 107,
   "metadata": {},
   "outputs": [],
   "source": [
    "with open(\"G:\\\\python_file_handling\\\\first.txt\")as f:\n",
    "    data=f.read()"
   ]
  },
  {
   "cell_type": "code",
   "execution_count": 108,
   "metadata": {},
   "outputs": [
    {
     "data": {
      "text/plain": [
       "'Name\\t\\tMaths\\t\\tScience\\t\\tEnglish\\nAnjamul\\t\\t87\\t\\t98\\t\\t92\\nNihar\\t\\t74\\t\\t70\\t\\t72\\nBhim\\t\\t68\\t\\t65\\t\\t75\\nGaurav\\t\\t60\\t\\t54\\t\\t62\\nSaloni\\t\\t74\\t\\t42\\t\\t10\\n'"
      ]
     },
     "execution_count": 108,
     "metadata": {},
     "output_type": "execute_result"
    }
   ],
   "source": [
    "data"
   ]
  },
  {
   "cell_type": "code",
   "execution_count": 109,
   "metadata": {},
   "outputs": [
    {
     "name": "stdout",
     "output_type": "stream",
     "text": [
      "Name\t\tMaths\t\tScience\t\tEnglish\n",
      "Anjamul\t\t87\t\t98\t\t92\n",
      "Nihar\t\t74\t\t70\t\t72\n",
      "Bhim\t\t68\t\t65\t\t75\n",
      "Gaurav\t\t60\t\t54\t\t62\n",
      "Saloni\t\t74\t\t42\t\t10\n",
      "\n"
     ]
    }
   ],
   "source": [
    "print(data)"
   ]
  },
  {
   "cell_type": "code",
   "execution_count": 110,
   "metadata": {},
   "outputs": [],
   "source": [
    "with open(\"G:\\\\python_file_handling\\\\first.txt\",'a') as f:\n",
    "    l=[\"Raju\",73,58,50]\n",
    "    s=\"\\n\"+l[0]\n",
    "    for i in range(1,len(l)):\n",
    "        s+=\"\\t\\t\"+str(l[i])\n",
    "    f.write(s)"
   ]
  },
  {
   "cell_type": "code",
   "execution_count": 111,
   "metadata": {},
   "outputs": [],
   "source": [
    "with open(\"G:\\\\python_file_handling\\\\first.txt\")as f:\n",
    "    data=f.read()"
   ]
  },
  {
   "cell_type": "code",
   "execution_count": 112,
   "metadata": {},
   "outputs": [
    {
     "data": {
      "text/plain": [
       "'Name\\t\\tMaths\\t\\tScience\\t\\tEnglish\\nAnjamul\\t\\t87\\t\\t98\\t\\t92\\nNihar\\t\\t74\\t\\t70\\t\\t72\\nBhim\\t\\t68\\t\\t65\\t\\t75\\nGaurav\\t\\t60\\t\\t54\\t\\t62\\nSaloni\\t\\t74\\t\\t42\\t\\t10\\n\\nRaju\\t\\t73\\t\\t58\\t\\t50'"
      ]
     },
     "execution_count": 112,
     "metadata": {},
     "output_type": "execute_result"
    }
   ],
   "source": [
    "data"
   ]
  },
  {
   "cell_type": "code",
   "execution_count": 113,
   "metadata": {},
   "outputs": [
    {
     "name": "stdout",
     "output_type": "stream",
     "text": [
      "Name\t\tMaths\t\tScience\t\tEnglish\n",
      "Anjamul\t\t87\t\t98\t\t92\n",
      "Nihar\t\t74\t\t70\t\t72\n",
      "Bhim\t\t68\t\t65\t\t75\n",
      "Gaurav\t\t60\t\t54\t\t62\n",
      "Saloni\t\t74\t\t42\t\t10\n",
      "\n",
      "Raju\t\t73\t\t58\t\t50\n"
     ]
    }
   ],
   "source": [
    "print(data)"
   ]
  },
  {
   "cell_type": "code",
   "execution_count": 129,
   "metadata": {},
   "outputs": [
    {
     "name": "stdout",
     "output_type": "stream",
     "text": [
      "Enter File Path: G:\\\\python_file_handling\\\\first.txt\n",
      "Rollno\t\tName\t\tMaths\t\tScience\t\tEnglish\n",
      "12345\t\tAnjamul\t\t87\t\t98\t\t92\n",
      "12346\t\tNihar\t\t74\t\t70\t\t72\n",
      "12347\t\tBhim\t\t68\t\t65\t\t75\n",
      "12348\t\tGaurav\t\t60\t\t54\t\t62\n",
      "12349\t\tSaloni\t\t74\t\t42\t\t10\n",
      "12340\t\tRaju\t\t73\t\t58\t\t50\n"
     ]
    }
   ],
   "source": [
    "# We can also take the help of os module to check the file exist or not\n",
    "# also that the path is the file path or directory path.\n",
    "import os\n",
    "\n",
    "file=input(\"Enter File Path: \")\n",
    "\n",
    "if os.path.exists(file):\n",
    "    if os.path.isfile(file):\n",
    "        with open(file)as f:\n",
    "            data=f.read()\n",
    "            print(data)\n",
    "    else:\n",
    "        print(\"Entered Path is the path of directory and required file Path\")\n",
    "else:\n",
    "    print(\"Error: Path Doesn't Exist.\\n\\tPlease Enter the Correct Path and try again.\")\n",
    "    "
   ]
  },
  {
   "cell_type": "code",
   "execution_count": 1,
   "metadata": {},
   "outputs": [
    {
     "name": "stdout",
     "output_type": "stream",
     "text": [
      "Welcome in Result Dekho.com\n",
      "Enter Roll number: 12346\n",
      "\n",
      "********************RESULT*******************\n",
      "\n",
      "\tName: Nihar\n",
      "\tRoll Number: 12346\n",
      "\tMarks: \n",
      "\tMath\tScience\tEnglish\n",
      "\t74\t70\t72\n",
      "\n",
      " Status: Pass\n",
      "Percentage: 72.0%\n",
      "\n",
      "*********************END*********************\n",
      "\n",
      "\n",
      "Do you want to check more result(y/n): yes\n",
      "Enter Roll number: 12345\n",
      "\n",
      "********************RESULT*******************\n",
      "\n",
      "\tName: Anjamul\n",
      "\tRoll Number: 12345\n",
      "\tMarks: \n",
      "\tMath\tScience\tEnglish\n",
      "\t87\t98\t92\n",
      "\n",
      " Status: Pass\n",
      "Percentage: 92.33333333333333%\n",
      "\n",
      "*********************END*********************\n",
      "\n",
      "\n",
      "Do you want to check more result(y/n): n\n",
      "Thanks! for Visite our Portal.\n"
     ]
    }
   ],
   "source": [
    "# Small project Result Dekho.com\n",
    "\n",
    "print(\"Welcome in Result Dekho.com\")\n",
    "while True:\n",
    "    rollno=input(\"Enter Roll number: \")\n",
    "    with open(\"G:\\\\python_file_handling\\\\first.txt\") as f:\n",
    "        data=f.read()\n",
    "        l=data.split('\\n')\n",
    "        l1=[]\n",
    "        result=[]\n",
    "        for i in range(1,len(l)):\n",
    "            l1.append(l[i].split())\n",
    "        c=True;\n",
    "        for i in range(len(l1)):\n",
    "            if l1[i][0]==rollno:\n",
    "                result=l1[i]\n",
    "                c=False\n",
    "                break\n",
    "        if c:\n",
    "            print(\"Invalid Roll number.Try agin...\")\n",
    "            continue\n",
    "        Name=result[1]\n",
    "        Rollno=result[0]\n",
    "        math=int(result[2])\n",
    "        science=int(result[3])\n",
    "        eng=int(result[4])\n",
    "        percentage=(math+science+eng)/3\n",
    "        status=\"Pass\"\n",
    "        if percentage<42:\n",
    "            status=\"Fail\"\n",
    "        print()\n",
    "        print(\"RESULT\".center(45,'*'))\n",
    "        print(f\"\\n\\tName: {Name}\\n\\tRoll Number: {Rollno}\\n\\tMarks: \\n\\tMath\\tScience\\tEnglish\\n\\t{math}\\t{science}\\t{eng}\\n\\n Status: {status}\\nPercentage: {percentage}%\")\n",
    "        print()\n",
    "        print(\"END\".center(45,'*'))\n",
    "        ch=input(\"\\n\\nDo you want to check more result(y/n): \")\n",
    "        if ch=='y'or ch=='Y'or ch==\"yes\"or ch==\"YES\":\n",
    "            continue\n",
    "        else:\n",
    "            print(\"Thanks! for Visite our Portal.\")\n",
    "            break"
   ]
  },
  {
   "cell_type": "markdown",
   "metadata": {},
   "source": [
    "### JSON (JavaScript Object Notation)"
   ]
  },
  {
   "cell_type": "markdown",
   "metadata": {},
   "source": [
    "### JSON Format is generally use to transfer the data from server to client. this just like the python dictionary only the difference is in JavaScript boolean is written as 'true' and 'false' whearas in python the boolean is written as 'True' and 'False' for Null:  null---->javascript and none-----> Python Example of the JSON format is :"
   ]
  },
  {
   "cell_type": "code",
   "execution_count": 33,
   "metadata": {},
   "outputs": [],
   "source": [
    "x=\"\"\"\n",
    "{\n",
    "    \"title\":\"JSON\",\n",
    "    \"release_year\":1992,\n",
    "    \"is_awesome\":true,\n",
    "    \"won_awards\":false,\n",
    "    \"developers\":[\"I\",\"You\",\"he\"],\n",
    "    \"budget\":null,\n",
    "    \"credits\":{\n",
    "        \"Auttho\":\"James Gosling\",\n",
    "        \"Tester\":\"xduago\"\n",
    "    }\n",
    "}\n",
    "\n",
    "\"\"\""
   ]
  },
  {
   "cell_type": "code",
   "execution_count": 34,
   "metadata": {},
   "outputs": [
    {
     "name": "stdout",
     "output_type": "stream",
     "text": [
      "\n",
      "{\n",
      "    \"title\":\"JSON\",\n",
      "    \"release_year\":1992,\n",
      "    \"is_awesome\":true,\n",
      "    \"won_awards\":false,\n",
      "    \"developers\":[\"I\",\"You\",\"he\"],\n",
      "    \"budget\":null,\n",
      "    \"credits\":{\n",
      "        \"Auttho\":\"James Gosling\",\n",
      "        \"Tester\":\"xduago\"\n",
      "    }\n",
      "}\n",
      "\n",
      "\n"
     ]
    }
   ],
   "source": [
    "print(x)"
   ]
  },
  {
   "cell_type": "code",
   "execution_count": 35,
   "metadata": {},
   "outputs": [],
   "source": [
    "import json"
   ]
  },
  {
   "cell_type": "code",
   "execution_count": 36,
   "metadata": {},
   "outputs": [
    {
     "name": "stdout",
     "output_type": "stream",
     "text": [
      "['JSONDecodeError', 'JSONDecoder', 'JSONEncoder', '__all__', '__author__', '__builtins__', '__cached__', '__doc__', '__file__', '__loader__', '__name__', '__package__', '__path__', '__spec__', '__version__', '_default_decoder', '_default_encoder', 'codecs', 'decoder', 'detect_encoding', 'dump', 'dumps', 'encoder', 'load', 'loads', 'scanner']\n"
     ]
    }
   ],
   "source": [
    "print(dir(json))"
   ]
  },
  {
   "cell_type": "code",
   "execution_count": 37,
   "metadata": {},
   "outputs": [],
   "source": [
    "z=json.loads(x) #loads() function is generally used when the json is in the String format"
   ]
  },
  {
   "cell_type": "code",
   "execution_count": 39,
   "metadata": {},
   "outputs": [
    {
     "ename": "AttributeError",
     "evalue": "'str' object has no attribute 'read'",
     "output_type": "error",
     "traceback": [
      "\u001b[1;31m---------------------------------------------------------------------------\u001b[0m",
      "\u001b[1;31mAttributeError\u001b[0m                            Traceback (most recent call last)",
      "\u001b[1;32m<ipython-input-39-67da3eda9114>\u001b[0m in \u001b[0;36m<module>\u001b[1;34m()\u001b[0m\n\u001b[1;32m----> 1\u001b[1;33m \u001b[0my\u001b[0m\u001b[1;33m=\u001b[0m\u001b[0mjson\u001b[0m\u001b[1;33m.\u001b[0m\u001b[0mload\u001b[0m\u001b[1;33m(\u001b[0m\u001b[0mx\u001b[0m\u001b[1;33m)\u001b[0m \u001b[1;31m# since type(x) is str hence wecan't apply load()method we have to use loads() instead\u001b[0m\u001b[1;33m\u001b[0m\u001b[0m\n\u001b[0m",
      "\u001b[1;32m~\\Anaconda3\\lib\\json\\__init__.py\u001b[0m in \u001b[0;36mload\u001b[1;34m(fp, cls, object_hook, parse_float, parse_int, parse_constant, object_pairs_hook, **kw)\u001b[0m\n\u001b[0;32m    294\u001b[0m \u001b[1;33m\u001b[0m\u001b[0m\n\u001b[0;32m    295\u001b[0m     \"\"\"\n\u001b[1;32m--> 296\u001b[1;33m     return loads(fp.read(),\n\u001b[0m\u001b[0;32m    297\u001b[0m         \u001b[0mcls\u001b[0m\u001b[1;33m=\u001b[0m\u001b[0mcls\u001b[0m\u001b[1;33m,\u001b[0m \u001b[0mobject_hook\u001b[0m\u001b[1;33m=\u001b[0m\u001b[0mobject_hook\u001b[0m\u001b[1;33m,\u001b[0m\u001b[1;33m\u001b[0m\u001b[0m\n\u001b[0;32m    298\u001b[0m         \u001b[0mparse_float\u001b[0m\u001b[1;33m=\u001b[0m\u001b[0mparse_float\u001b[0m\u001b[1;33m,\u001b[0m \u001b[0mparse_int\u001b[0m\u001b[1;33m=\u001b[0m\u001b[0mparse_int\u001b[0m\u001b[1;33m,\u001b[0m\u001b[1;33m\u001b[0m\u001b[0m\n",
      "\u001b[1;31mAttributeError\u001b[0m: 'str' object has no attribute 'read'"
     ]
    }
   ],
   "source": [
    "y=json.load(x) # since type(x) is str hence wecan't apply load()method we have to use loads() instead"
   ]
  },
  {
   "cell_type": "code",
   "execution_count": 40,
   "metadata": {},
   "outputs": [
    {
     "data": {
      "text/plain": [
       "dict"
      ]
     },
     "execution_count": 40,
     "metadata": {},
     "output_type": "execute_result"
    }
   ],
   "source": [
    "type(z\n",
    "    )"
   ]
  },
  {
   "cell_type": "code",
   "execution_count": 41,
   "metadata": {},
   "outputs": [
    {
     "data": {
      "text/plain": [
       "'JSON'"
      ]
     },
     "execution_count": 41,
     "metadata": {},
     "output_type": "execute_result"
    }
   ],
   "source": [
    "z['title']"
   ]
  },
  {
   "cell_type": "code",
   "execution_count": 42,
   "metadata": {},
   "outputs": [
    {
     "data": {
      "text/plain": [
       "{'Auttho': 'James Gosling', 'Tester': 'xduago'}"
      ]
     },
     "execution_count": 42,
     "metadata": {},
     "output_type": "execute_result"
    }
   ],
   "source": [
    "z['credits']"
   ]
  },
  {
   "cell_type": "code",
   "execution_count": 51,
   "metadata": {},
   "outputs": [
    {
     "name": "stdout",
     "output_type": "stream",
     "text": [
      "This is the Python Dictionary: \n",
      " {'title': 'JSON', 'release_year': 1992, 'is_awesome': True, 'won_awards': False, 'developers': ['I', 'You', 'he'], 'budget': None, 'credits': {'Auttho': 'James Gosling', 'Tester': 'xduago'}}\n",
      "\n",
      "This is the JSON fromat: \n",
      " {\"title\": \"JSON\", \"release_year\": 1992, \"is_awesome\": true, \"won_awards\": false, \"developers\": [\"I\", \"You\", \"he\"], \"budget\": null, \"credits\": {\"Auttho\": \"James Gosling\", \"Tester\": \"xduago\"}}\n"
     ]
    }
   ],
   "source": [
    "# let's create a JSON testing file\n",
    "with open(\"G:\\\\python_file_handling\\\\jsontest.txt\",'w') as f:\n",
    "    data=json.loads(x)\n",
    "    print(\"This is the Python Dictionary: \\n\",data)\n",
    "    data=json.dumps(data)\n",
    "    print(\"\\nThis is the JSON fromat: \\n\",data)\n",
    "    f.write(data)"
   ]
  },
  {
   "cell_type": "code",
   "execution_count": 52,
   "metadata": {},
   "outputs": [],
   "source": [
    "# More about the JSON methods\n",
    "# json.load(x)    ---->  x is a json object from the file. e.g.\n",
    "# json.loads(x)   ---->  x is a json String e.g.\n",
    "# where x='''{\"c\":\"y\",\"z\":null,\"a\":10}'''\n",
    "# when we want to write json data in our file then \n",
    "# we can only write the string data\n",
    "# to make the json object in string we can use json.dumps(x) where x is the json object \n",
    "# there are some importat method:\n",
    "\n",
    "# json.load(f): Load JSON data from file(or file-like object)\n",
    "# json.loads(s): Load JSON data from a string\n",
    "# json.dump(j,f): Load JSON object to file(or file-like object)\n",
    "# json.dumps(j): Output JSON object as string\n"
   ]
  },
  {
   "cell_type": "code",
   "execution_count": 57,
   "metadata": {},
   "outputs": [],
   "source": [
    "json_file=open(\"G:\\\\python_file_handling\\\\jsontest.txt\")"
   ]
  },
  {
   "cell_type": "code",
   "execution_count": 58,
   "metadata": {},
   "outputs": [],
   "source": [
    "data=json.load(json_file)"
   ]
  },
  {
   "cell_type": "code",
   "execution_count": 59,
   "metadata": {},
   "outputs": [
    {
     "data": {
      "text/plain": [
       "{'title': 'JSON',\n",
       " 'release_year': 1992,\n",
       " 'is_awesome': True,\n",
       " 'won_awards': False,\n",
       " 'developers': ['I', 'You', 'he'],\n",
       " 'budget': None,\n",
       " 'credits': {'Auttho': 'James Gosling', 'Tester': 'xduago'}}"
      ]
     },
     "execution_count": 59,
     "metadata": {},
     "output_type": "execute_result"
    }
   ],
   "source": [
    "data"
   ]
  },
  {
   "cell_type": "code",
   "execution_count": 60,
   "metadata": {},
   "outputs": [],
   "source": [
    "json_file.close()"
   ]
  },
  {
   "cell_type": "code",
   "execution_count": 61,
   "metadata": {},
   "outputs": [
    {
     "data": {
      "text/plain": [
       "{'title': 'JSON',\n",
       " 'release_year': 1992,\n",
       " 'is_awesome': True,\n",
       " 'won_awards': False,\n",
       " 'developers': ['I', 'You', 'he'],\n",
       " 'budget': None,\n",
       " 'credits': {'Auttho': 'James Gosling', 'Tester': 'xduago'}}"
      ]
     },
     "execution_count": 61,
     "metadata": {},
     "output_type": "execute_result"
    }
   ],
   "source": [
    "data"
   ]
  },
  {
   "cell_type": "code",
   "execution_count": 62,
   "metadata": {},
   "outputs": [],
   "source": [
    "data['address']=\"Ambikapur\""
   ]
  },
  {
   "cell_type": "code",
   "execution_count": 63,
   "metadata": {},
   "outputs": [
    {
     "ename": "TypeError",
     "evalue": "write() argument must be str, not dict",
     "output_type": "error",
     "traceback": [
      "\u001b[1;31m---------------------------------------------------------------------------\u001b[0m",
      "\u001b[1;31mTypeError\u001b[0m                                 Traceback (most recent call last)",
      "\u001b[1;32m<ipython-input-63-a68588b7d645>\u001b[0m in \u001b[0;36m<module>\u001b[1;34m()\u001b[0m\n\u001b[0;32m      1\u001b[0m \u001b[1;32mwith\u001b[0m \u001b[0mopen\u001b[0m\u001b[1;33m(\u001b[0m\u001b[1;34m\"G:\\\\python_file_handling\\\\jsontest.txt\"\u001b[0m\u001b[1;33m,\u001b[0m\u001b[1;34m'w'\u001b[0m\u001b[1;33m)\u001b[0m\u001b[1;32mas\u001b[0m \u001b[0mf\u001b[0m\u001b[1;33m:\u001b[0m\u001b[1;33m\u001b[0m\u001b[0m\n\u001b[1;32m----> 2\u001b[1;33m     \u001b[0mf\u001b[0m\u001b[1;33m.\u001b[0m\u001b[0mwrite\u001b[0m\u001b[1;33m(\u001b[0m\u001b[0mdata\u001b[0m\u001b[1;33m)\u001b[0m\u001b[1;33m\u001b[0m\u001b[0m\n\u001b[0m",
      "\u001b[1;31mTypeError\u001b[0m: write() argument must be str, not dict"
     ]
    }
   ],
   "source": [
    "with open(\"G:\\\\python_file_handling\\\\jsontest.txt\",'w')as f:\n",
    "    f.write(data)"
   ]
  },
  {
   "cell_type": "code",
   "execution_count": 64,
   "metadata": {},
   "outputs": [],
   "source": [
    "# so we can dump the dictionary data as an json object in sting format usin json.dumps(data)\n",
    "with open(\"G:\\\\python_file_handling\\\\jsontest.txt\",'w')as f:\n",
    "    data=json.dumps(data)\n",
    "    f.write(data)\n"
   ]
  },
  {
   "cell_type": "code",
   "execution_count": 65,
   "metadata": {},
   "outputs": [],
   "source": [
    "with open(\"G:\\\\python_file_handling\\\\jsontest.txt\")as f:\n",
    "    data=f.read()"
   ]
  },
  {
   "cell_type": "code",
   "execution_count": 66,
   "metadata": {},
   "outputs": [
    {
     "data": {
      "text/plain": [
       "'{\"title\": \"JSON\", \"release_year\": 1992, \"is_awesome\": true, \"won_awards\": false, \"developers\": [\"I\", \"You\", \"he\"], \"budget\": null, \"credits\": {\"Auttho\": \"James Gosling\", \"Tester\": \"xduago\"}, \"address\": \"Ambikapur\"}'"
      ]
     },
     "execution_count": 66,
     "metadata": {},
     "output_type": "execute_result"
    }
   ],
   "source": [
    "data"
   ]
  },
  {
   "cell_type": "code",
   "execution_count": 67,
   "metadata": {},
   "outputs": [
    {
     "data": {
      "text/plain": [
       "str"
      ]
     },
     "execution_count": 67,
     "metadata": {},
     "output_type": "execute_result"
    }
   ],
   "source": [
    "type(data)"
   ]
  },
  {
   "cell_type": "code",
   "execution_count": 68,
   "metadata": {},
   "outputs": [],
   "source": [
    "# let's convert it in dictionary format\n",
    "data=json.loads(data)"
   ]
  },
  {
   "cell_type": "code",
   "execution_count": 70,
   "metadata": {},
   "outputs": [
    {
     "data": {
      "text/plain": [
       "dict"
      ]
     },
     "execution_count": 70,
     "metadata": {},
     "output_type": "execute_result"
    }
   ],
   "source": [
    "type(data)"
   ]
  },
  {
   "cell_type": "code",
   "execution_count": 71,
   "metadata": {},
   "outputs": [
    {
     "data": {
      "text/plain": [
       "'Ambikapur'"
      ]
     },
     "execution_count": 71,
     "metadata": {},
     "output_type": "execute_result"
    }
   ],
   "source": [
    "data['address']"
   ]
  },
  {
   "cell_type": "code",
   "execution_count": 72,
   "metadata": {},
   "outputs": [],
   "source": [
    "# Example of the json.dump()\n",
    "dic={}\n",
    "dic[\"a/c\"]=12345\n",
    "dic[\"name\"]=\"Anjamul\"\n",
    "dic[\"address\"]=\"Ambikapur\""
   ]
  },
  {
   "cell_type": "code",
   "execution_count": 77,
   "metadata": {},
   "outputs": [],
   "source": [
    "with open(\"G:\\\\python_file_handling\\\\jsontest.txt\",'a')as f:\n",
    "    json.dump(dic,f)"
   ]
  },
  {
   "cell_type": "code",
   "execution_count": 2,
   "metadata": {},
   "outputs": [],
   "source": [
    "f=open(\"G:\\\\My jupyterNote for python\\\\result.JPG\",'rb')\n",
    "data=f.read()"
   ]
  },
  {
   "cell_type": "code",
   "execution_count": 4,
   "metadata": {},
   "outputs": [],
   "source": [
    "f.close()"
   ]
  },
  {
   "cell_type": "code",
   "execution_count": 6,
   "metadata": {},
   "outputs": [
    {
     "data": {
      "text/plain": [
       "63797"
      ]
     },
     "execution_count": 6,
     "metadata": {},
     "output_type": "execute_result"
    }
   ],
   "source": [
    "f=open(\"G:\\\\Test1\\\\result.JPG\",'wb')\n",
    "f.write(data)"
   ]
  },
  {
   "cell_type": "code",
   "execution_count": 7,
   "metadata": {},
   "outputs": [],
   "source": [
    "f.close()\n"
   ]
  },
  {
   "cell_type": "code",
   "execution_count": 8,
   "metadata": {},
   "outputs": [],
   "source": [
    "f=open(\"G:\\\\My jupyterNote for python\\\\Certificate-Python In Hindi.pdf\",'rb')\n",
    "data=f.read()\n",
    "f.close()"
   ]
  },
  {
   "cell_type": "code",
   "execution_count": 10,
   "metadata": {},
   "outputs": [],
   "source": [
    "f=open(\"G:\\\\Test1\\\\Certificate-Python In Hindi.pdf\",'wb')\n",
    "f.write(data)\n",
    "f.close()"
   ]
  },
  {
   "cell_type": "code",
   "execution_count": 9,
   "metadata": {},
   "outputs": [],
   "source": [
    "f=open(\"G:\\\\My jupyterNote for python\\\\result.JPG\",'rb')\n",
    "data=f.read()\n"
   ]
  },
  {
   "cell_type": "code",
   "execution_count": 12,
   "metadata": {},
   "outputs": [
    {
     "data": {
      "text/plain": [
       "63797"
      ]
     },
     "execution_count": 12,
     "metadata": {},
     "output_type": "execute_result"
    },
    {
     "name": "stderr",
     "output_type": "stream",
     "text": [
      "Exception in callback BaseSelectorEventLoop._read_from_self()\n",
      "handle: <Handle BaseSelectorEventLoop._read_from_self()>\n",
      "Traceback (most recent call last):\n",
      "  File \"C:\\Users\\Anjamul\\Anaconda3\\lib\\asyncio\\events.py\", line 145, in _run\n",
      "    self._callback(*self._args)\n",
      "  File \"C:\\Users\\Anjamul\\Anaconda3\\lib\\asyncio\\selector_events.py\", line 141, in _read_from_self\n",
      "    data = self._ssock.recv(4096)\n",
      "ConnectionResetError: [WinError 10054] An existing connection was forcibly closed by the remote host\n",
      "Exception in callback BaseSelectorEventLoop._read_from_self()\n",
      "handle: <Handle BaseSelectorEventLoop._read_from_self()>\n",
      "Traceback (most recent call last):\n",
      "  File \"C:\\Users\\Anjamul\\Anaconda3\\lib\\asyncio\\events.py\", line 145, in _run\n",
      "    self._callback(*self._args)\n",
      "  File \"C:\\Users\\Anjamul\\Anaconda3\\lib\\asyncio\\selector_events.py\", line 141, in _read_from_self\n",
      "    data = self._ssock.recv(4096)\n",
      "ConnectionResetError: [WinError 10054] An existing connection was forcibly closed by the remote host\n",
      "Exception in callback BaseSelectorEventLoop._read_from_self()\n",
      "handle: <Handle BaseSelectorEventLoop._read_from_self()>\n",
      "Traceback (most recent call last):\n",
      "  File \"C:\\Users\\Anjamul\\Anaconda3\\lib\\asyncio\\events.py\", line 145, in _run\n",
      "    self._callback(*self._args)\n",
      "  File \"C:\\Users\\Anjamul\\Anaconda3\\lib\\asyncio\\selector_events.py\", line 141, in _read_from_self\n",
      "    data = self._ssock.recv(4096)\n",
      "ConnectionResetError: [WinError 10054] An existing connection was forcibly closed by the remote host\n",
      "Exception in callback BaseSelectorEventLoop._read_from_self()\n",
      "handle: <Handle BaseSelectorEventLoop._read_from_self()>\n",
      "Traceback (most recent call last):\n",
      "  File \"C:\\Users\\Anjamul\\Anaconda3\\lib\\asyncio\\events.py\", line 145, in _run\n",
      "    self._callback(*self._args)\n",
      "  File \"C:\\Users\\Anjamul\\Anaconda3\\lib\\asyncio\\selector_events.py\", line 141, in _read_from_self\n",
      "    data = self._ssock.recv(4096)\n",
      "ConnectionResetError: [WinError 10054] An existing connection was forcibly closed by the remote host\n",
      "Exception in callback BaseSelectorEventLoop._read_from_self()\n",
      "handle: <Handle BaseSelectorEventLoop._read_from_self()>\n",
      "Traceback (most recent call last):\n",
      "  File \"C:\\Users\\Anjamul\\Anaconda3\\lib\\asyncio\\events.py\", line 145, in _run\n",
      "    self._callback(*self._args)\n",
      "  File \"C:\\Users\\Anjamul\\Anaconda3\\lib\\asyncio\\selector_events.py\", line 141, in _read_from_self\n",
      "    data = self._ssock.recv(4096)\n",
      "ConnectionResetError: [WinError 10054] An existing connection was forcibly closed by the remote host\n",
      "Exception in callback BaseSelectorEventLoop._read_from_self()\n",
      "handle: <Handle BaseSelectorEventLoop._read_from_self()>\n",
      "Traceback (most recent call last):\n",
      "  File \"C:\\Users\\Anjamul\\Anaconda3\\lib\\asyncio\\events.py\", line 145, in _run\n",
      "    self._callback(*self._args)\n",
      "  File \"C:\\Users\\Anjamul\\Anaconda3\\lib\\asyncio\\selector_events.py\", line 141, in _read_from_self\n",
      "    data = self._ssock.recv(4096)\n",
      "ConnectionResetError: [WinError 10054] An existing connection was forcibly closed by the remote host\n",
      "Exception in callback BaseSelectorEventLoop._read_from_self()\n",
      "handle: <Handle BaseSelectorEventLoop._read_from_self()>\n",
      "Traceback (most recent call last):\n",
      "  File \"C:\\Users\\Anjamul\\Anaconda3\\lib\\asyncio\\events.py\", line 145, in _run\n",
      "    self._callback(*self._args)\n",
      "  File \"C:\\Users\\Anjamul\\Anaconda3\\lib\\asyncio\\selector_events.py\", line 141, in _read_from_self\n",
      "    data = self._ssock.recv(4096)\n",
      "ConnectionResetError: [WinError 10054] An existing connection was forcibly closed by the remote host\n",
      "Exception in callback BaseSelectorEventLoop._read_from_self()\n",
      "handle: <Handle BaseSelectorEventLoop._read_from_self()>\n",
      "Traceback (most recent call last):\n",
      "  File \"C:\\Users\\Anjamul\\Anaconda3\\lib\\asyncio\\events.py\", line 145, in _run\n",
      "    self._callback(*self._args)\n",
      "  File \"C:\\Users\\Anjamul\\Anaconda3\\lib\\asyncio\\selector_events.py\", line 141, in _read_from_self\n",
      "    data = self._ssock.recv(4096)\n",
      "ConnectionResetError: [WinError 10054] An existing connection was forcibly closed by the remote host\n",
      "Exception in callback BaseSelectorEventLoop._read_from_self()\n",
      "handle: <Handle BaseSelectorEventLoop._read_from_self()>\n",
      "Traceback (most recent call last):\n",
      "  File \"C:\\Users\\Anjamul\\Anaconda3\\lib\\asyncio\\events.py\", line 145, in _run\n",
      "    self._callback(*self._args)\n",
      "  File \"C:\\Users\\Anjamul\\Anaconda3\\lib\\asyncio\\selector_events.py\", line 141, in _read_from_self\n",
      "    data = self._ssock.recv(4096)\n",
      "ConnectionResetError: [WinError 10054] An existing connection was forcibly closed by the remote host\n"
     ]
    }
   ],
   "source": []
  },
  {
   "cell_type": "code",
   "execution_count": null,
   "metadata": {},
   "outputs": [],
   "source": []
  }
 ],
 "metadata": {
  "kernelspec": {
   "display_name": "Python 3",
   "language": "python",
   "name": "python3"
  },
  "language_info": {
   "codemirror_mode": {
    "name": "ipython",
    "version": 3
   },
   "file_extension": ".py",
   "mimetype": "text/x-python",
   "name": "python",
   "nbconvert_exporter": "python",
   "pygments_lexer": "ipython3",
   "version": "3.6.5"
  }
 },
 "nbformat": 4,
 "nbformat_minor": 2
}
