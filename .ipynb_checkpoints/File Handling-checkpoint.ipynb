{
 "cells": [
  {
   "cell_type": "code",
   "execution_count": 10,
   "metadata": {},
   "outputs": [],
   "source": [
    "f=open(\"G:\\\\python_file_handling\\\\first.txt\")"
   ]
  },
  {
   "cell_type": "code",
   "execution_count": 20,
   "metadata": {},
   "outputs": [],
   "source": [
    "f.close()"
   ]
  },
  {
   "cell_type": "code",
   "execution_count": 21,
   "metadata": {},
   "outputs": [],
   "source": [
    "f=open(\"G:\\\\python_file_handling\\\\first.txt\")"
   ]
  },
  {
   "cell_type": "code",
   "execution_count": 22,
   "metadata": {},
   "outputs": [
    {
     "name": "stdout",
     "output_type": "stream",
     "text": [
      "Name\t\tMaths\t\tScience\t\tEnglish\n",
      "Anjamul\t\t87\t\t98\t\t92\n",
      "Nihar\t\t74\t\t70\t\t72\n",
      "Bhim\t\t68\t\t65\t\t75\n",
      "Gaurav\t\t60\t\t54\t\t62\n"
     ]
    }
   ],
   "source": [
    "print(f.read())"
   ]
  },
  {
   "cell_type": "code",
   "execution_count": 23,
   "metadata": {},
   "outputs": [],
   "source": [
    "f.close()"
   ]
  },
  {
   "cell_type": "code",
   "execution_count": 25,
   "metadata": {},
   "outputs": [],
   "source": [
    "l=[\"Chirag\",78,45,100]"
   ]
  },
  {
   "cell_type": "code",
   "execution_count": 27,
   "metadata": {},
   "outputs": [],
   "source": [
    "f=open(\":\\\\python_file_handling\\\\first.txt\",'a')"
   ]
  },
  {
   "cell_type": "code",
   "execution_count": 33,
   "metadata": {},
   "outputs": [
    {
     "data": {
      "text/plain": [
       "19"
      ]
     },
     "execution_count": 33,
     "metadata": {},
     "output_type": "execute_result"
    }
   ],
   "source": [
    "f.write(\"\\nChirag\\t\\t70\\t\\t45\\t\\t60\")"
   ]
  },
  {
   "cell_type": "code",
   "execution_count": 34,
   "metadata": {},
   "outputs": [],
   "source": [
    "f.close()"
   ]
  },
  {
   "cell_type": "code",
   "execution_count": 36,
   "metadata": {},
   "outputs": [],
   "source": [
    "f=open(\"G:\\\\python_file_handling\\\\first.txt\")"
   ]
  },
  {
   "cell_type": "code",
   "execution_count": 37,
   "metadata": {},
   "outputs": [
    {
     "name": "stdout",
     "output_type": "stream",
     "text": [
      "Name\t\tMaths\t\tScience\t\tEnglish\n",
      "Anjamul\t\t87\t\t98\t\t92\n",
      "Nihar\t\t74\t\t70\t\t72\n",
      "Bhim\t\t68\t\t65\t\t75\n",
      "Gaurav\t\t60\t\t54\t\t62\n",
      "Chirag\t\t70\t\t45\t\t60\n"
     ]
    }
   ],
   "source": [
    "print(f.read())"
   ]
  },
  {
   "cell_type": "code",
   "execution_count": 38,
   "metadata": {},
   "outputs": [],
   "source": [
    "f.close()"
   ]
  },
  {
   "cell_type": "code",
   "execution_count": 39,
   "metadata": {},
   "outputs": [],
   "source": [
    "f=open(\"G:\\\\python_file_handling\\\\first.txt\")"
   ]
  },
  {
   "cell_type": "code",
   "execution_count": 40,
   "metadata": {},
   "outputs": [],
   "source": [
    "data=f.read()"
   ]
  },
  {
   "cell_type": "code",
   "execution_count": 41,
   "metadata": {},
   "outputs": [],
   "source": [
    "f.close()"
   ]
  },
  {
   "cell_type": "code",
   "execution_count": 42,
   "metadata": {},
   "outputs": [
    {
     "ename": "ValueError",
     "evalue": "I/O operation on closed file.",
     "output_type": "error",
     "traceback": [
      "\u001b[1;31m---------------------------------------------------------------------------\u001b[0m",
      "\u001b[1;31mValueError\u001b[0m                                Traceback (most recent call last)",
      "\u001b[1;32m<ipython-input-42-571e9fb02258>\u001b[0m in \u001b[0;36m<module>\u001b[1;34m()\u001b[0m\n\u001b[1;32m----> 1\u001b[1;33m \u001b[0mf\u001b[0m\u001b[1;33m.\u001b[0m\u001b[0mread\u001b[0m\u001b[1;33m(\u001b[0m\u001b[1;33m)\u001b[0m\u001b[1;33m\u001b[0m\u001b[0m\n\u001b[0m",
      "\u001b[1;31mValueError\u001b[0m: I/O operation on closed file."
     ]
    }
   ],
   "source": [
    "f.read()"
   ]
  },
  {
   "cell_type": "code",
   "execution_count": 44,
   "metadata": {},
   "outputs": [
    {
     "name": "stdout",
     "output_type": "stream",
     "text": [
      "Name\t\tMaths\t\tScience\t\tEnglish\n",
      "Anjamul\t\t87\t\t98\t\t92\n",
      "Nihar\t\t74\t\t70\t\t72\n",
      "Bhim\t\t68\t\t65\t\t75\n",
      "Gaurav\t\t60\t\t54\t\t62\n",
      "Chirag\t\t70\t\t45\t\t60\n"
     ]
    }
   ],
   "source": [
    "print(data)"
   ]
  },
  {
   "cell_type": "code",
   "execution_count": 56,
   "metadata": {},
   "outputs": [],
   "source": []
  },
  {
   "cell_type": "code",
   "execution_count": 95,
   "metadata": {},
   "outputs": [],
   "source": [
    "with open(\"G:\\\\python_file_handling\\\\first.txt\",'a') as f:\n",
    "    l=[\"Saloni\",74,42,10]\n",
    "    s=\"\\n\"+l[0]\n",
    "    for i in range(1,len(l)):\n",
    "        s+=\"\\t\\t\"+str(l[i])\n",
    "    f.write(s)\n",
    "    \n",
    "    "
   ]
  },
  {
   "cell_type": "code",
   "execution_count": 96,
   "metadata": {},
   "outputs": [],
   "source": [
    "with open(\"G:\\\\python_file_handling\\\\first.txt\") as f:\n",
    "    data=f.read()"
   ]
  },
  {
   "cell_type": "code",
   "execution_count": 97,
   "metadata": {},
   "outputs": [
    {
     "data": {
      "text/plain": [
       "'Name\\t\\tMaths\\t\\tScience\\t\\tEnglish\\nAnjamul\\t\\t87\\t\\t98\\t\\t92\\nNihar\\t\\t74\\t\\t70\\t\\t72\\nBhim\\t\\t68\\t\\t65\\t\\t75\\nGaurav\\t\\t60\\t\\t54\\t\\t62\\nChirag\\t\\t70\\t\\t45\\t\\t60\\t\\tSaloni\\t\\t74\\t\\t42\\t\\t10Saloni\\t\\t1\\t\\t2\\t\\t3Saloni\\t\\t74\\t\\t42\\t\\t10Saloni\\t\\t74\\t\\t42\\t\\t10\\nSaloni\\t\\t74\\t\\t42\\t\\t10\\nSaloni\\t\\t74\\t\\t42\\t\\t10'"
      ]
     },
     "execution_count": 97,
     "metadata": {},
     "output_type": "execute_result"
    }
   ],
   "source": [
    "data"
   ]
  },
  {
   "cell_type": "code",
   "execution_count": 104,
   "metadata": {},
   "outputs": [
    {
     "name": "stdout",
     "output_type": "stream",
     "text": [
      "Name\t\tMaths\t\tScience\t\tEnglish\n",
      "Anjamul\t\t87\t\t98\t\t92\n",
      "Nihar\t\t74\t\t70\t\t72\n",
      "Bhim\t\t68\t\t65\t\t75\n",
      "Gaurav\t\t60\t\t54\t\t62\n",
      "Saloni\t\t74\t\t42\t\t10\n",
      "\n"
     ]
    }
   ],
   "source": [
    "s=\"\"\n",
    "l=[]\n",
    "for i in data:\n",
    "    s=s+i\n",
    "    if i==\"\\n\":\n",
    "        l.append([s])\n",
    "        s=\"\"\n",
    "l.remove(l[len(l)-2])\n",
    "fordata=\"\"\n",
    "for i in range(len(l)):\n",
    "    fordata+=l[i][0]\n",
    "    \n",
    "#for i in range(len(data.split())//4+2):\n",
    "    "
   ]
  },
  {
   "cell_type": "code",
   "execution_count": 105,
   "metadata": {},
   "outputs": [
    {
     "data": {
      "text/plain": [
       "'Name\\t\\tMaths\\t\\tScience\\t\\tEnglish\\nAnjamul\\t\\t87\\t\\t98\\t\\t92\\nNihar\\t\\t74\\t\\t70\\t\\t72\\nBhim\\t\\t68\\t\\t65\\t\\t75\\nGaurav\\t\\t60\\t\\t54\\t\\t62\\nSaloni\\t\\t74\\t\\t42\\t\\t10\\n'"
      ]
     },
     "execution_count": 105,
     "metadata": {},
     "output_type": "execute_result"
    }
   ],
   "source": [
    "fordata"
   ]
  },
  {
   "cell_type": "code",
   "execution_count": 106,
   "metadata": {},
   "outputs": [],
   "source": [
    "with open(\"G:\\\\python_file_handling\\\\first.txt\",'w')as f:\n",
    "    f.write(fordata)"
   ]
  },
  {
   "cell_type": "code",
   "execution_count": 107,
   "metadata": {},
   "outputs": [],
   "source": [
    "with open(\"G:\\\\python_file_handling\\\\first.txt\")as f:\n",
    "    data=f.read()"
   ]
  },
  {
   "cell_type": "code",
   "execution_count": 108,
   "metadata": {},
   "outputs": [
    {
     "data": {
      "text/plain": [
       "'Name\\t\\tMaths\\t\\tScience\\t\\tEnglish\\nAnjamul\\t\\t87\\t\\t98\\t\\t92\\nNihar\\t\\t74\\t\\t70\\t\\t72\\nBhim\\t\\t68\\t\\t65\\t\\t75\\nGaurav\\t\\t60\\t\\t54\\t\\t62\\nSaloni\\t\\t74\\t\\t42\\t\\t10\\n'"
      ]
     },
     "execution_count": 108,
     "metadata": {},
     "output_type": "execute_result"
    }
   ],
   "source": [
    "data"
   ]
  },
  {
   "cell_type": "code",
   "execution_count": 109,
   "metadata": {},
   "outputs": [
    {
     "name": "stdout",
     "output_type": "stream",
     "text": [
      "Name\t\tMaths\t\tScience\t\tEnglish\n",
      "Anjamul\t\t87\t\t98\t\t92\n",
      "Nihar\t\t74\t\t70\t\t72\n",
      "Bhim\t\t68\t\t65\t\t75\n",
      "Gaurav\t\t60\t\t54\t\t62\n",
      "Saloni\t\t74\t\t42\t\t10\n",
      "\n"
     ]
    }
   ],
   "source": [
    "print(data)"
   ]
  },
  {
   "cell_type": "code",
   "execution_count": 110,
   "metadata": {},
   "outputs": [],
   "source": [
    "with open(\"G:\\\\python_file_handling\\\\first.txt\",'a') as f:\n",
    "    l=[\"Raju\",73,58,50]\n",
    "    s=\"\\n\"+l[0]\n",
    "    for i in range(1,len(l)):\n",
    "        s+=\"\\t\\t\"+str(l[i])\n",
    "    f.write(s)"
   ]
  },
  {
   "cell_type": "code",
   "execution_count": 111,
   "metadata": {},
   "outputs": [],
   "source": [
    "with open(\"G:\\\\python_file_handling\\\\first.txt\")as f:\n",
    "    data=f.read()"
   ]
  },
  {
   "cell_type": "code",
   "execution_count": 112,
   "metadata": {},
   "outputs": [
    {
     "data": {
      "text/plain": [
       "'Name\\t\\tMaths\\t\\tScience\\t\\tEnglish\\nAnjamul\\t\\t87\\t\\t98\\t\\t92\\nNihar\\t\\t74\\t\\t70\\t\\t72\\nBhim\\t\\t68\\t\\t65\\t\\t75\\nGaurav\\t\\t60\\t\\t54\\t\\t62\\nSaloni\\t\\t74\\t\\t42\\t\\t10\\n\\nRaju\\t\\t73\\t\\t58\\t\\t50'"
      ]
     },
     "execution_count": 112,
     "metadata": {},
     "output_type": "execute_result"
    }
   ],
   "source": [
    "data"
   ]
  },
  {
   "cell_type": "code",
   "execution_count": 113,
   "metadata": {},
   "outputs": [
    {
     "name": "stdout",
     "output_type": "stream",
     "text": [
      "Name\t\tMaths\t\tScience\t\tEnglish\n",
      "Anjamul\t\t87\t\t98\t\t92\n",
      "Nihar\t\t74\t\t70\t\t72\n",
      "Bhim\t\t68\t\t65\t\t75\n",
      "Gaurav\t\t60\t\t54\t\t62\n",
      "Saloni\t\t74\t\t42\t\t10\n",
      "\n",
      "Raju\t\t73\t\t58\t\t50\n"
     ]
    }
   ],
   "source": [
    "print(data)"
   ]
  },
  {
   "cell_type": "code",
   "execution_count": 129,
   "metadata": {},
   "outputs": [
    {
     "name": "stdout",
     "output_type": "stream",
     "text": [
      "Enter File Path: G:\\\\python_file_handling\\\\first.txt\n",
      "Rollno\t\tName\t\tMaths\t\tScience\t\tEnglish\n",
      "12345\t\tAnjamul\t\t87\t\t98\t\t92\n",
      "12346\t\tNihar\t\t74\t\t70\t\t72\n",
      "12347\t\tBhim\t\t68\t\t65\t\t75\n",
      "12348\t\tGaurav\t\t60\t\t54\t\t62\n",
      "12349\t\tSaloni\t\t74\t\t42\t\t10\n",
      "12340\t\tRaju\t\t73\t\t58\t\t50\n"
     ]
    }
   ],
   "source": [
    "# We can also take the help of os module to check the file exist or not\n",
    "# also that the path is the file path or directory path.\n",
    "import os\n",
    "\n",
    "file=input(\"Enter File Path: \")\n",
    "\n",
    "if os.path.exists(file):\n",
    "    if os.path.isfile(file):\n",
    "        with open(file)as f:\n",
    "            data=f.read()\n",
    "            print(data)\n",
    "    else:\n",
    "        print(\"Entered Path is the path of directory and required file Path\")\n",
    "else:\n",
    "    print(\"Error: Path Doesn't Exist.\\n\\tPlease Enter the Correct Path and try again.\")\n",
    "    "
   ]
  },
  {
   "cell_type": "code",
   "execution_count": 141,
   "metadata": {},
   "outputs": [
    {
     "name": "stdout",
     "output_type": "stream",
     "text": [
      "Welcome in Result Dekho.com\n",
      "Enter the Name: sdsaas\n",
      "Enter Roll number: 12345\n",
      "\n",
      "                    RESULT                   \n",
      "\n",
      "\tName: Anjamul\n",
      "\tRoll Number: 12345\n",
      "\tMarks: \n",
      "\tMath\tScience\tEnglish\n",
      "\t87\t98\t92\n",
      "\n",
      " Status: Pass\n",
      "Percentage: 92.33333333333333%\n"
     ]
    }
   ],
   "source": [
    "# Small result showing\n",
    "print(\"Welcome in Result Dekho.com\")\n",
    "rollno=input(\"Enter Roll number: \")\n",
    "with open(\"G:\\\\python_file_handling\\\\first.txt\") as f:\n",
    "    data=f.read()\n",
    "    l=data.split('\\n')\n",
    "    l1=[]\n",
    "    result=[]\n",
    "    for i in range(1,len(l)):\n",
    "        l1.append(l[i].split())\n",
    "    for i in range(len(l1)):\n",
    "        if l1[i][0]==rollno:\n",
    "            result=l1[i]\n",
    "            break\n",
    "    Name=result[1]\n",
    "    Rollno=result[0]\n",
    "    math=int(result[2])\n",
    "    science=int(result[3])\n",
    "    eng=int(result[4])\n",
    "    percentage=(math+science+eng)/3\n",
    "    status=\"Pass\"\n",
    "    if percentage<42:\n",
    "        status=\"Fail\"\n",
    "    print()\n",
    "    print(\"RESULT\".center(45))\n",
    "    print(f\"\\n\\tName: {Name}\\n\\tRoll Number: {Rollno}\\n\\tMarks: \\n\\tMath\\tScience\\tEnglish\\n\\t{math}\\t{science}\\t{eng}\\n\\n Status: {status}\\nPercentage: {percentage}%\")"
   ]
  },
  {
   "cell_type": "code",
   "execution_count": null,
   "metadata": {},
   "outputs": [],
   "source": []
  }
 ],
 "metadata": {
  "kernelspec": {
   "display_name": "Python 3",
   "language": "python",
   "name": "python3"
  },
  "language_info": {
   "codemirror_mode": {
    "name": "ipython",
    "version": 3
   },
   "file_extension": ".py",
   "mimetype": "text/x-python",
   "name": "python",
   "nbconvert_exporter": "python",
   "pygments_lexer": "ipython3",
   "version": "3.6.5"
  }
 },
 "nbformat": 4,
 "nbformat_minor": 2
}
