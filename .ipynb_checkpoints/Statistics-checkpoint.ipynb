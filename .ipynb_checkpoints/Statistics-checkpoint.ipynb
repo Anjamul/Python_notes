{
 "cells": [
  {
   "cell_type": "code",
   "execution_count": 1,
   "metadata": {},
   "outputs": [
    {
     "name": "stdout",
     "output_type": "stream",
     "text": [
      "Entr number of items: 100\n",
      "Start,end: 1 75\n",
      "[53, 59, 60, 38, 27, 59, 71, 58, 48, 29, 7, 59, 1, 9, 64, 41, 15, 12, 32, 1, 59, 26, 74, 74, 23, 14, 60, 36, 36, 32, 54, 19, 18, 41, 6, 13, 60, 11, 17, 8, 5, 50, 8, 27, 52, 28, 67, 3, 60, 26, 27, 30, 47, 19, 11, 66, 17, 1, 43, 10, 53, 58, 67, 12, 56, 65, 51, 64, 75, 70, 19, 52, 38, 1, 3, 59, 46, 31, 53, 9, 40, 59, 19, 6, 75, 34, 70, 11, 45, 14, 20, 1, 75, 12, 43, 61, 23, 55, 43, 20]\n"
     ]
    }
   ],
   "source": [
    "n=int(input(\"Entr number of items: \"))\n",
    "s,e=map(int,input(\"Start,end: \").split())\n",
    "from random import randint\n",
    "data=[randint(s,e) for i in range(n)]\n",
    "print(data)"
   ]
  },
  {
   "cell_type": "code",
   "execution_count": 2,
   "metadata": {},
   "outputs": [
    {
     "name": "stdout",
     "output_type": "stream",
     "text": [
      "Number of Class:  8\n"
     ]
    }
   ],
   "source": [
    "N=n\n",
    "from math import log10,ceil\n",
    "\n",
    "k=ceil(1+3.322*log10(N))\n",
    "print(\"Number of Class: \",k)"
   ]
  },
  {
   "cell_type": "code",
   "execution_count": 4,
   "metadata": {},
   "outputs": [
    {
     "name": "stdout",
     "output_type": "stream",
     "text": [
      "Range:  74\n"
     ]
    }
   ],
   "source": [
    "#width=range/8\n",
    "maximum=max(data)\n",
    "minimum=min(data)\n",
    "print(\"Range: \",maximum-minimum)"
   ]
  },
  {
   "cell_type": "code",
   "execution_count": 9,
   "metadata": {},
   "outputs": [
    {
     "name": "stdout",
     "output_type": "stream",
     "text": [
      "9\n"
     ]
    }
   ],
   "source": [
    "width=int((maximum-minimum)/k)\n",
    "print(width)"
   ]
  },
  {
   "cell_type": "code",
   "execution_count": 10,
   "metadata": {},
   "outputs": [
    {
     "name": "stdout",
     "output_type": "stream",
     "text": [
      "[1, 1, 1, 1, 1, 3, 3, 5, 6, 6, 7, 8, 8, 9, 9, 10, 11, 11, 11, 12, 12, 12, 13, 14, 14, 15, 17, 17, 18, 19, 19, 19, 19, 20, 20, 23, 23, 26, 26, 27, 27, 27, 28, 29, 30, 31, 32, 32, 34, 36, 36, 38, 38, 40, 41, 41, 43, 43, 43, 45, 46, 47, 48, 50, 51, 52, 52, 53, 53, 53, 54, 55, 56, 58, 58, 59, 59, 59, 59, 59, 59, 60, 60, 60, 60, 61, 64, 64, 65, 66, 67, 67, 70, 70, 71, 74, 74, 75, 75, 75]\n"
     ]
    }
   ],
   "source": [
    "#cfd\n",
    "data.sort()\n",
    "print(data)"
   ]
  },
  {
   "cell_type": "code",
   "execution_count": 11,
   "metadata": {},
   "outputs": [
    {
     "name": "stdout",
     "output_type": "stream",
     "text": [
      "[(1, 10), (10, 19), (19, 28), (28, 37), (37, 46), (46, 55), (55, 64), (64, 73)]\n"
     ]
    }
   ],
   "source": [
    "class_intervels=[]\n",
    "lower_limit=min(data)\n",
    "upper_limit=None\n",
    "for i in range(k):\n",
    "    upper_limit=lower_limit+width\n",
    "    class_intervels.append((round(lower_limit),round(upper_limit)))\n",
    "    lower_limit+=width\n",
    "print(class_intervels)"
   ]
  },
  {
   "cell_type": "code",
   "execution_count": 14,
   "metadata": {},
   "outputs": [
    {
     "name": "stdout",
     "output_type": "stream",
     "text": [
      "[15, 14, 13, 9, 9, 11, 15, 9]\n"
     ]
    }
   ],
   "source": [
    "frequency=[]\n",
    "for each_class in class_intervels:\n",
    "    s=0\n",
    "    for var in range(*each_class):\n",
    "        c=data.count(var)\n",
    "        s=s+c\n",
    "    frequency.append(s)\n",
    "print(frequency)"
   ]
  },
  {
   "cell_type": "code",
   "execution_count": 23,
   "metadata": {},
   "outputs": [
    {
     "name": "stdout",
     "output_type": "stream",
     "text": [
      "|\t1 - 10     |\t 15\t |\n",
      "|\t10 - 19    |\t 14\t |\n",
      "|\t19 - 28    |\t 13\t |\n",
      "|\t28 - 37    |\t 9\t |\n",
      "|\t37 - 46    |\t 9\t |\n",
      "|\t46 - 55    |\t 11\t |\n",
      "|\t55 - 64    |\t 15\t |\n",
      "|\t64 - 73    |\t 9\t |\n"
     ]
    }
   ],
   "source": [
    "for i in range(k):\n",
    "    classd=class_intervels[i]\n",
    "    x=f\"{classd[0]} - {classd[1]}\"\n",
    "    frequn=frequency[i]\n",
    "    print(f\"|\\t{x:<10} |\\t {frequn}\\t |\")"
   ]
  },
  {
   "cell_type": "code",
   "execution_count": null,
   "metadata": {},
   "outputs": [],
   "source": []
  }
 ],
 "metadata": {
  "kernelspec": {
   "display_name": "Python 3",
   "language": "python",
   "name": "python3"
  },
  "language_info": {
   "codemirror_mode": {
    "name": "ipython",
    "version": 3
   },
   "file_extension": ".py",
   "mimetype": "text/x-python",
   "name": "python",
   "nbconvert_exporter": "python",
   "pygments_lexer": "ipython3",
   "version": "3.6.5"
  }
 },
 "nbformat": 4,
 "nbformat_minor": 2
}
