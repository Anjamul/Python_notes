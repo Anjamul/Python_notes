{
 "cells": [
  {
   "cell_type": "markdown",
   "metadata": {},
   "source": [
    "# Function"
   ]
  },
  {
   "cell_type": "markdown",
   "metadata": {},
   "source": [
    "# We can pass arguement in function in different types:\n",
    "\n",
    "1. Positional Arguement(Required Arguement)\n",
    "2. Keyword Arguement\n",
    "3. Default Arguement\n",
    "4. Varialble length Arguement"
   ]
  },
  {
   "cell_type": "code",
   "execution_count": 1,
   "metadata": {},
   "outputs": [],
   "source": [
    "def printinfo(name,age):\n",
    "    print(\"Name: \",name)\n",
    "    print(\"Age: \",age)\n",
    "    return"
   ]
  },
  {
   "cell_type": "code",
   "execution_count": 5,
   "metadata": {},
   "outputs": [
    {
     "name": "stdout",
     "output_type": "stream",
     "text": [
      "Name:  Anjamul\n",
      "Age:  21\n"
     ]
    }
   ],
   "source": [
    "printinfo(\"Anjamul\",21) #This is Postional Arguement or we can say required arguement.the position must match with the arguement \n",
    "#sequence."
   ]
  },
  {
   "cell_type": "code",
   "execution_count": 6,
   "metadata": {},
   "outputs": [
    {
     "name": "stdout",
     "output_type": "stream",
     "text": [
      "Name:  Anjamul\n",
      "Age:  21\n"
     ]
    }
   ],
   "source": [
    "printinfo(age=21,name=\"Anjamul\")#This type of function calling known as the keyword arguement. because in this type of function \n",
    "#calling we pass the arguement according to their keyword name "
   ]
  },
  {
   "cell_type": "code",
   "execution_count": null,
   "metadata": {},
   "outputs": [],
   "source": [
    "#Example of the Default Arguement Function"
   ]
  },
  {
   "cell_type": "code",
   "execution_count": 10,
   "metadata": {},
   "outputs": [],
   "source": [
    "def printinfo(name, age=21):\n",
    "    print(\"Name: \",name)\n",
    "    print(\"Age: \",age)\n",
    "    return"
   ]
  },
  {
   "cell_type": "code",
   "execution_count": 11,
   "metadata": {},
   "outputs": [
    {
     "name": "stdout",
     "output_type": "stream",
     "text": [
      "Name:  Anjamul\n",
      "Age:  21\n"
     ]
    }
   ],
   "source": [
    "printinfo(\"Anjamul\")#this calling similar like the positional arguement calling but age will be printed by defaul by the function."
   ]
  },
  {
   "cell_type": "code",
   "execution_count": 12,
   "metadata": {},
   "outputs": [
    {
     "name": "stdout",
     "output_type": "stream",
     "text": [
      "Name:  anjamul\n",
      "Age:  21\n"
     ]
    }
   ],
   "source": [
    "printinfo(name=\"anjamul\")#this calling is similar like keyword arguement calling but age is printed by default."
   ]
  },
  {
   "cell_type": "code",
   "execution_count": 13,
   "metadata": {},
   "outputs": [
    {
     "name": "stdout",
     "output_type": "stream",
     "text": [
      "Name:  Anjamul\n",
      "Age:  22\n"
     ]
    }
   ],
   "source": [
    "printinfo(name=\"Anjamul\",age=22)# this calling belongs to the keyword arguement because of we are calling the function by using \n",
    "#the keyword name and here default value of age will be override with age=22."
   ]
  },
  {
   "cell_type": "code",
   "execution_count": 14,
   "metadata": {},
   "outputs": [],
   "source": [
    "# Variable-length Arguements\n",
    "# In this type of function we can pass more and more arguement as we want\n",
    "# These Arguements are known as the Variable-length Arguements"
   ]
  },
  {
   "cell_type": "code",
   "execution_count": 15,
   "metadata": {},
   "outputs": [],
   "source": [
    "# Definition:\n",
    "\n",
    "def printinfo(name,*moreinfointheformoftuple):\n",
    "    print(\"Name: \",name)\n",
    "    print(\"More Info in tuple is: \",moreinfointheformoftuple)\n",
    "    return\n"
   ]
  },
  {
   "cell_type": "code",
   "execution_count": 16,
   "metadata": {},
   "outputs": [
    {
     "name": "stdout",
     "output_type": "stream",
     "text": [
      "Name:  Anjamul\n",
      "More Info in tuple is:  ('Jaipur India', 21, '8839445656')\n"
     ]
    }
   ],
   "source": [
    "printinfo(\"Anjamul\",\"Jaipur India\",21,\"8839445656\")"
   ]
  },
  {
   "cell_type": "code",
   "execution_count": 32,
   "metadata": {},
   "outputs": [
    {
     "name": "stdout",
     "output_type": "stream",
     "text": [
      "More Info in tuple is:  ('Jaipur India', 21, '8839445656')\n"
     ]
    }
   ],
   "source": [
    "printinfo(\"Jaipur India\",21,\"8839445656\")"
   ]
  },
  {
   "cell_type": "code",
   "execution_count": 33,
   "metadata": {},
   "outputs": [
    {
     "name": "stdout",
     "output_type": "stream",
     "text": [
      "More Info in tuple is:  ()\n"
     ]
    }
   ],
   "source": [
    "printinfo()# No output No Error!"
   ]
  },
  {
   "cell_type": "code",
   "execution_count": 19,
   "metadata": {},
   "outputs": [],
   "source": [
    "def printinfo(*moreinfointheformoftuple):\n",
    "    print(\"More Info in tuple is: \",moreinfointheformoftuple)\n",
    "    return\n"
   ]
  },
  {
   "cell_type": "code",
   "execution_count": 21,
   "metadata": {},
   "outputs": [
    {
     "name": "stdout",
     "output_type": "stream",
     "text": [
      "More Info in tuple is:  ('My name is Anjamul', 'My age is 21', 'Currently i am doing B.tech at Arya College of Engineering & I.T.')\n"
     ]
    }
   ],
   "source": [
    "printinfo(\"My name is Anjamul\",\"My age is 21\", \"Currently i am doing B.tech at Arya College of Engineering & I.T.\")"
   ]
  },
  {
   "cell_type": "code",
   "execution_count": 23,
   "metadata": {},
   "outputs": [],
   "source": [
    "import numpy"
   ]
  },
  {
   "cell_type": "code",
   "execution_count": 29,
   "metadata": {},
   "outputs": [],
   "source": [
    "# Now we can make a lot of useful function\n",
    "# Let's Take an example of some of them\n",
    "\n",
    "# Function for Swaping Two integer without taking third variable\n",
    "def swapingOfInteger(x,y):\n",
    "    return y,x # this return statement will return the value in the form of tuple (y,x)"
   ]
  },
  {
   "cell_type": "code",
   "execution_count": 30,
   "metadata": {},
   "outputs": [
    {
     "name": "stdout",
     "output_type": "stream",
     "text": [
      "13 11\n",
      "Value of x before Swapping:  13\n",
      "Value of y before Swapping:  11\n",
      "Value of x after Swapping:  11\n",
      "Value of y after Swapping:  13\n"
     ]
    }
   ],
   "source": [
    "x,y=map(int,input().split())\n",
    "print(\"Value of x before Swapping: \",x)\n",
    "print(\"Value of y before Swapping: \",y)\n",
    "x,y=swapingOfInteger(x,y)\n",
    "print(\"Value of x after Swapping: \",x)\n",
    "print(\"Value of y after Swapping: \",y)"
   ]
  },
  {
   "cell_type": "code",
   "execution_count": 31,
   "metadata": {},
   "outputs": [
    {
     "name": "stdout",
     "output_type": "stream",
     "text": [
      "13 45\n",
      "Value of x before Swapping:  13\n",
      "Value of y before Swapping:  45\n",
      "<class 'tuple'>\n",
      "Value of x after Swapping:  (45, 13)\n",
      "Value of y after Swapping:  45\n"
     ]
    }
   ],
   "source": [
    "x,y=map(int,input().split())\n",
    "print(\"Value of x before Swapping: \",x)\n",
    "print(\"Value of y before Swapping: \",y)\n",
    "x=swapingOfInteger(x,y)# x <-- (y,x)\n",
    "print(type(x))\n",
    "print(\"Value of x after Swapping: \",x)\n",
    "print(\"Value of y after Swapping: \",y)"
   ]
  },
  {
   "cell_type": "code",
   "execution_count": 34,
   "metadata": {},
   "outputs": [],
   "source": [
    "# Function for additionof Multiple integers\n",
    "\n",
    "def add(*values):\n",
    "    return sum(values)"
   ]
  },
  {
   "cell_type": "code",
   "execution_count": 35,
   "metadata": {},
   "outputs": [
    {
     "name": "stdout",
     "output_type": "stream",
     "text": [
      "21\n",
      "1\n",
      "0\n",
      "162\n"
     ]
    }
   ],
   "source": [
    "print(add(1,2,3,4,5,6))\n",
    "print(add(1))\n",
    "print(add())\n",
    "print(add(10,20,30,41,54,7))"
   ]
  },
  {
   "cell_type": "code",
   "execution_count": 40,
   "metadata": {},
   "outputs": [
    {
     "name": "stdout",
     "output_type": "stream",
     "text": [
      "Time taken by my computer to execute N=10000000 is:  2.4106173515319824\n"
     ]
    }
   ],
   "source": [
    "import time\n",
    "s=time.time()\n",
    "for i in range(1,10000000):\n",
    "    num=i;\n",
    "    x=num%i;\n",
    "e=time.time()\n",
    "print(\"Time taken by my computer to execute N=10000000 is: \",e-s)"
   ]
  },
  {
   "cell_type": "markdown",
   "metadata": {},
   "source": [
    "# Labmda Function"
   ]
  },
  {
   "cell_type": "code",
   "execution_count": 42,
   "metadata": {},
   "outputs": [],
   "source": [
    "# The Anonymous Functions(Lambda Function)\n",
    "# These functions are called anonymous because they are not declared in the standard manner by using the def keyword.\n",
    "# We can use the lambda keyword to create small anonmous functions.\n",
    "\n",
    "# 1. Lambda forms can take any number of arguements by return one value in the form of expression. They can not contain commands or multiple expressions.\n",
    "# 2.  An anonymous function cannot be a direct call to print because lambda requires an expression.\n",
    "# 3. Lambda function has it's own local namespace and it can't access the parameter other than the variable in the parameter list and the global space variable.\n",
    "\n",
    "# Syntax of Lambda function:\n",
    "# a=lambda arg1,arg2,arg3:arg1+arg2+arg3;\n",
    "\n",
    "sum=lambda a,b:a+b\n"
   ]
  },
  {
   "cell_type": "code",
   "execution_count": 44,
   "metadata": {},
   "outputs": [
    {
     "name": "stdout",
     "output_type": "stream",
     "text": [
      "30\n"
     ]
    }
   ],
   "source": [
    "print(sum(23,7))"
   ]
  },
  {
   "cell_type": "markdown",
   "metadata": {},
   "source": [
    "#### Use of lambda() with filter()"
   ]
  },
  {
   "cell_type": "code",
   "execution_count": 1,
   "metadata": {},
   "outputs": [],
   "source": [
    "# The filter() function in python takes in a function and a list as arguements.\n",
    "# T\n",
    "l=[i for i in range(100)]"
   ]
  },
  {
   "cell_type": "code",
   "execution_count": 4,
   "metadata": {},
   "outputs": [
    {
     "name": "stdout",
     "output_type": "stream",
     "text": [
      "[0, 2, 4, 6, 8, 10, 12, 14, 16, 18, 20, 22, 24, 26, 28, 30, 32, 34, 36, 38, 40, 42, 44, 46, 48, 50, 52, 54, 56, 58, 60, 62, 64, 66, 68, 70, 72, 74, 76, 78, 80, 82, 84, 86, 88, 90, 92, 94, 96, 98]\n"
     ]
    }
   ],
   "source": [
    "print(list(filter(lambda x:x%2==0,l)))"
   ]
  },
  {
   "cell_type": "code",
   "execution_count": 6,
   "metadata": {},
   "outputs": [
    {
     "name": "stdout",
     "output_type": "stream",
     "text": [
      "[False, True, False, True, False, True, False, True, False, True, False, True, False, True, False, True, False, True, False, True, False, True, False, True, False, True, False, True, False, True, False, True, False, True, False, True, False, True, False, True, False, True, False, True, False, True, False, True, False, True, False, True, False, True, False, True, False, True, False, True, False, True, False, True, False, True, False, True, False, True, False, True, False, True, False, True, False, True, False, True, False, True, False, True, False, True, False, True, False, True, False, True, False, True, False, True, False, True, False, True]\n"
     ]
    }
   ],
   "source": [
    "print(list(map(lambda x:x%2==1,l)))"
   ]
  },
  {
   "cell_type": "markdown",
   "metadata": {},
   "source": [
    "### we can solve the various type of function like linear equation and quadratic equation"
   ]
  },
  {
   "cell_type": "code",
   "execution_count": 10,
   "metadata": {},
   "outputs": [],
   "source": [
    "# let's take an example of the linear equation: f(x)=3x+5\n",
    "f=lambda x:3*x+5"
   ]
  },
  {
   "cell_type": "code",
   "execution_count": 11,
   "metadata": {},
   "outputs": [
    {
     "data": {
      "text/plain": [
       "14"
      ]
     },
     "execution_count": 11,
     "metadata": {},
     "output_type": "execute_result"
    }
   ],
   "source": [
    "f(3)"
   ]
  },
  {
   "cell_type": "code",
   "execution_count": 18,
   "metadata": {},
   "outputs": [],
   "source": [
    "# We can also solve the quadratic Equation\n",
    "#ax^2+bx+c\n",
    "# the below method is just a quadratic equation generator according to the value of a,b,c\n",
    "def build_quadratic(a,b,c):\n",
    "    return lambda x:a*x**2+b*x+c"
   ]
  },
  {
   "cell_type": "code",
   "execution_count": 19,
   "metadata": {},
   "outputs": [],
   "source": [
    "F=build_quadratic(2,3,4)"
   ]
  },
  {
   "cell_type": "code",
   "execution_count": 20,
   "metadata": {},
   "outputs": [
    {
     "data": {
      "text/plain": [
       "18"
      ]
     },
     "execution_count": 20,
     "metadata": {},
     "output_type": "execute_result"
    }
   ],
   "source": [
    "# 2x^2+3x+4\n",
    "F(2) # 2(2^2)+3*2+4 because of x=2"
   ]
  },
  {
   "cell_type": "code",
   "execution_count": 21,
   "metadata": {},
   "outputs": [
    {
     "data": {
      "text/plain": [
       "31"
      ]
     },
     "execution_count": 21,
     "metadata": {},
     "output_type": "execute_result"
    }
   ],
   "source": [
    "F(3) # 2*(2^3)+3*3+4 because of x=3"
   ]
  },
  {
   "cell_type": "markdown",
   "metadata": {},
   "source": [
    "### use of lambda with map()"
   ]
  },
  {
   "cell_type": "code",
   "execution_count": 22,
   "metadata": {},
   "outputs": [],
   "source": [
    "l=[i for i in range(100)]"
   ]
  },
  {
   "cell_type": "code",
   "execution_count": 23,
   "metadata": {},
   "outputs": [
    {
     "name": "stdout",
     "output_type": "stream",
     "text": [
      "[0, 1, 4, 9, 16, 25, 36, 49, 64, 81, 100, 121, 144, 169, 196, 225, 256, 289, 324, 361, 400, 441, 484, 529, 576, 625, 676, 729, 784, 841, 900, 961, 1024, 1089, 1156, 1225, 1296, 1369, 1444, 1521, 1600, 1681, 1764, 1849, 1936, 2025, 2116, 2209, 2304, 2401, 2500, 2601, 2704, 2809, 2916, 3025, 3136, 3249, 3364, 3481, 3600, 3721, 3844, 3969, 4096, 4225, 4356, 4489, 4624, 4761, 4900, 5041, 5184, 5329, 5476, 5625, 5776, 5929, 6084, 6241, 6400, 6561, 6724, 6889, 7056, 7225, 7396, 7569, 7744, 7921, 8100, 8281, 8464, 8649, 8836, 9025, 9216, 9409, 9604, 9801]\n"
     ]
    }
   ],
   "source": [
    "print(list(map(lambda x: x**2,l)))"
   ]
  },
  {
   "cell_type": "code",
   "execution_count": null,
   "metadata": {},
   "outputs": [],
   "source": []
  },
  {
   "cell_type": "markdown",
   "metadata": {},
   "source": [
    "#### Map, Filter and Reduce function in python"
   ]
  },
  {
   "cell_type": "code",
   "execution_count": 33,
   "metadata": {},
   "outputs": [
    {
     "name": "stdout",
     "output_type": "stream",
     "text": [
      "[0, None, 2, None, 4, None, 6, None, 8, None, 10, None, 12, None, 14, None, 16, None, 18, None, 20, None, 22, None, 24, None, 26, None, 28, None, 30, None, 32, None, 34, None, 36, None, 38, None, 40, None, 42, None, 44, None, 46, None, 48, None, 50, None, 52, None, 54, None, 56, None, 58, None, 60, None, 62, None, 64, None, 66, None, 68, None, 70, None, 72, None, 74, None, 76, None, 78, None, 80, None, 82, None, 84, None, 86, None, 88, None, 90, None, 92, None, 94, None, 96, None, 98, None]\n"
     ]
    }
   ],
   "source": [
    "# Map function in python is a good tool to map any data into a particular function.\n",
    "# Map function take two arguements first is function and second is datalist or data simply.\n",
    "# syntax of map is:\n",
    "# map(function,list)\n",
    "def evenno(x):\n",
    "    if x%2==0:\n",
    "        return x\n",
    "    else:\n",
    "        pass\n",
    "l=[i for i in range(100)]\n",
    "print(list(map(evenno,l)))\n",
    "\n"
   ]
  },
  {
   "cell_type": "code",
   "execution_count": 32,
   "metadata": {},
   "outputs": [
    {
     "name": "stdout",
     "output_type": "stream",
     "text": [
      "[0, 2, 4, 6, 8, 10, 12, 14, 16, 18, 20, 22, 24, 26, 28, 30, 32, 34, 36, 38, 40, 42, 44, 46, 48, 50, 52, 54, 56, 58, 60, 62, 64, 66, 68, 70, 72, 74, 76, 78, 80, 82, 84, 86, 88, 90, 92, 94, 96, 98]\n"
     ]
    }
   ],
   "source": [
    "print(list(filter(lambda x:x!=None,list(map(evenno,l)))))"
   ]
  },
  {
   "cell_type": "markdown",
   "metadata": {},
   "source": [
    "# Scope of Variables "
   ]
  },
  {
   "cell_type": "code",
   "execution_count": 40,
   "metadata": {},
   "outputs": [
    {
     "name": "stdout",
     "output_type": "stream",
     "text": [
      "Global Variable X:  10\n"
     ]
    },
    {
     "ename": "UnboundLocalError",
     "evalue": "local variable 'x' referenced before assignment",
     "output_type": "error",
     "traceback": [
      "\u001b[1;31m---------------------------------------------------------------------------\u001b[0m",
      "\u001b[1;31mUnboundLocalError\u001b[0m                         Traceback (most recent call last)",
      "\u001b[1;32m<ipython-input-40-8243b8bd76e3>\u001b[0m in \u001b[0;36m<module>\u001b[1;34m()\u001b[0m\n\u001b[0;32m      5\u001b[0m     \u001b[0mprint\u001b[0m\u001b[1;33m(\u001b[0m\u001b[1;34m\"Local Variable x: \"\u001b[0m\u001b[1;33m,\u001b[0m\u001b[0mx\u001b[0m\u001b[1;33m)\u001b[0m\u001b[1;33m\u001b[0m\u001b[0m\n\u001b[0;32m      6\u001b[0m \u001b[0mprint\u001b[0m\u001b[1;33m(\u001b[0m\u001b[1;34m\"Global Variable X: \"\u001b[0m\u001b[1;33m,\u001b[0m\u001b[0mx\u001b[0m\u001b[1;33m)\u001b[0m\u001b[1;33m\u001b[0m\u001b[0m\n\u001b[1;32m----> 7\u001b[1;33m \u001b[0mscopecheck\u001b[0m\u001b[1;33m(\u001b[0m\u001b[1;33m)\u001b[0m\u001b[1;33m\u001b[0m\u001b[0m\n\u001b[0m\u001b[0;32m      8\u001b[0m \u001b[0mprint\u001b[0m\u001b[1;33m(\u001b[0m\u001b[1;34m\"Global Variable after Function Calling: \"\u001b[0m\u001b[1;33m,\u001b[0m\u001b[0mx\u001b[0m\u001b[1;33m)\u001b[0m\u001b[1;33m\u001b[0m\u001b[0m\n\u001b[0;32m      9\u001b[0m \u001b[1;33m\u001b[0m\u001b[0m\n",
      "\u001b[1;32m<ipython-input-40-8243b8bd76e3>\u001b[0m in \u001b[0;36mscopecheck\u001b[1;34m()\u001b[0m\n\u001b[0;32m      1\u001b[0m \u001b[0mx\u001b[0m\u001b[1;33m=\u001b[0m\u001b[1;36m10\u001b[0m\u001b[1;33m\u001b[0m\u001b[0m\n\u001b[0;32m      2\u001b[0m \u001b[1;32mdef\u001b[0m \u001b[0mscopecheck\u001b[0m\u001b[1;33m(\u001b[0m\u001b[1;33m)\u001b[0m\u001b[1;33m:\u001b[0m\u001b[1;33m\u001b[0m\u001b[0m\n\u001b[1;32m----> 3\u001b[1;33m     \u001b[0ms\u001b[0m\u001b[1;33m=\u001b[0m\u001b[0mx\u001b[0m\u001b[1;33m\u001b[0m\u001b[0m\n\u001b[0m\u001b[0;32m      4\u001b[0m     \u001b[0mx\u001b[0m\u001b[1;33m=\u001b[0m\u001b[0ms\u001b[0m\u001b[1;33m+\u001b[0m\u001b[1;36m5\u001b[0m\u001b[1;33m\u001b[0m\u001b[0m\n\u001b[0;32m      5\u001b[0m     \u001b[0mprint\u001b[0m\u001b[1;33m(\u001b[0m\u001b[1;34m\"Local Variable x: \"\u001b[0m\u001b[1;33m,\u001b[0m\u001b[0mx\u001b[0m\u001b[1;33m)\u001b[0m\u001b[1;33m\u001b[0m\u001b[0m\n",
      "\u001b[1;31mUnboundLocalError\u001b[0m: local variable 'x' referenced before assignment"
     ]
    }
   ],
   "source": [
    "x=10\n",
    "def scopecheck():\n",
    "    s=x\n",
    "    x=s+5\n",
    "    print(\"Local Variable x: \",x)\n",
    "print(\"Global Variable X: \",x)\n",
    "scopecheck()\n",
    "print(\"Global Variable after Function Calling: \",x)\n",
    "\n",
    "# as we can see in the function the global variable can't be \n",
    "# modified in the local scope we can only use the global variable \n",
    "# but we can't modify it because for modifying it we have to the function \n",
    "# that this variable is from the global Scope"
   ]
  },
  {
   "cell_type": "code",
   "execution_count": 4,
   "metadata": {},
   "outputs": [
    {
     "name": "stdout",
     "output_type": "stream",
     "text": [
      "Global Variable X:  10\n",
      "Local Variable x:  15\n",
      "Global Variable after Function Calling:  15\n"
     ]
    }
   ],
   "source": [
    "x=10\n",
    "def scopecheck():\n",
    "    global x\n",
    "    s=x\n",
    "    x=s+5\n",
    "    print(\"Local Variable x: \",x)\n",
    "print(\"Global Variable X: \",x)\n",
    "scopecheck()\n",
    "print(\"Global Variable after Function Calling: \",x)"
   ]
  },
  {
   "cell_type": "markdown",
   "metadata": {},
   "source": [
    "##  *args"
   ]
  },
  {
   "cell_type": "code",
   "execution_count": 2,
   "metadata": {},
   "outputs": [],
   "source": [
    "# *arg is non-keyword variable-length arguement for the function.\n",
    "\n",
    "def func(*args):\n",
    "    print(args)"
   ]
  },
  {
   "cell_type": "code",
   "execution_count": 3,
   "metadata": {},
   "outputs": [
    {
     "name": "stdout",
     "output_type": "stream",
     "text": [
      "('hello', 'hii', 1, 2)\n"
     ]
    }
   ],
   "source": [
    "func(\"hello\",\"hii\",1,2)"
   ]
  },
  {
   "cell_type": "markdown",
   "metadata": {},
   "source": [
    "## **kwargs"
   ]
  },
  {
   "cell_type": "markdown",
   "metadata": {},
   "source": [
    "####  the special syntax **kwargs in function definitions in python is used to pass a keyworded, variable-length arguement list. this arguements will pass in function just like dictionary"
   ]
  },
  {
   "cell_type": "code",
   "execution_count": 5,
   "metadata": {},
   "outputs": [],
   "source": [
    "# Example\n",
    "def func1(**arg):\n",
    "    for key,value in arg.items():\n",
    "        print(f\"{key}: {value}\")"
   ]
  },
  {
   "cell_type": "code",
   "execution_count": 6,
   "metadata": {},
   "outputs": [
    {
     "name": "stdout",
     "output_type": "stream",
     "text": [
      "name: Md Anjamul Haque\n",
      "age: 21\n",
      "Address: Earth\n",
      "star: Sun & Moon\n"
     ]
    }
   ],
   "source": [
    "func1(name=\"Md Anjamul Haque\",age=21,Address=\"Earth\",star=\"Sun & Moon\")"
   ]
  },
  {
   "cell_type": "code",
   "execution_count": null,
   "metadata": {},
   "outputs": [],
   "source": []
  }
 ],
 "metadata": {
  "kernelspec": {
   "display_name": "Python 3",
   "language": "python",
   "name": "python3"
  }
 },
 "nbformat": 4,
 "nbformat_minor": 2
}
