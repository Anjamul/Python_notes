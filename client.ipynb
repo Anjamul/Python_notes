{
 "cells": [
  {
   "cell_type": "code",
   "execution_count": 2,
   "metadata": {},
   "outputs": [
    {
     "name": "stdout",
     "output_type": "stream",
     "text": [
      "\t\t\tserver-> let's have a fun\n",
      "\n",
      "client->ok..!what is the plan for today\n",
      "\t\t\tserver-> nothing bu what you want to do\n",
      "\n",
      "client->let's play pubg today\n",
      "\t\t\tserver-> ok..\n",
      "\n",
      "client->sorry! bro i am going to sleep good night\n",
      "\t\t\tserver-> good night\n",
      "\n",
      "client->good night\n",
      "\t\t\tserver-> \n",
      "\n",
      "client->bye\n",
      "Connection is closed by client\n"
     ]
    }
   ],
   "source": [
    "import socket\n",
    "server_socket = socket.socket(socket.AF_INET,socket.SOCK_STREAM)\n",
    "host = socket.gethostbyname(socket.gethostname())\n",
    "port = 9999\n",
    "server_socket.connect((host,port))\n",
    "while True : \n",
    "    c_msg = server_socket.recv(1024)\n",
    "    print(\"\\t\\t\\tserver->\",c_msg.decode())\n",
    "    if c_msg.decode().strip().lower() == 'bye' :\n",
    "        print(\"Connection Closed by Server\")\n",
    "        server_socket.close()\n",
    "        break\n",
    "    msg = input(\"\\nclient->\")\n",
    "    server_socket.send(msg.encode())\n",
    "    if msg.strip().lower() == 'bye' : \n",
    "        server_socket.send(msg.encode())\n",
    "        print(\"Connection is closed by client\")\n",
    "        server_socket.close()\n",
    "        break\n"
   ]
  },
  {
   "cell_type": "code",
   "execution_count": null,
   "metadata": {},
   "outputs": [],
   "source": []
  }
 ],
 "metadata": {
  "kernelspec": {
   "display_name": "Python 3",
   "language": "python",
   "name": "python3"
  },
  "language_info": {
   "codemirror_mode": {
    "name": "ipython",
    "version": 3
   },
   "file_extension": ".py",
   "mimetype": "text/x-python",
   "name": "python",
   "nbconvert_exporter": "python",
   "pygments_lexer": "ipython3",
   "version": "3.6.5"
  }
 },
 "nbformat": 4,
 "nbformat_minor": 2
}
