{
 "cells": [
  {
   "cell_type": "code",
   "execution_count": 2,
   "metadata": {},
   "outputs": [],
   "source": [
    "import os\n",
    "l=list(os.walk(os.getcwd()))"
   ]
  },
  {
   "cell_type": "code",
   "execution_count": 3,
   "metadata": {},
   "outputs": [
    {
     "name": "stdout",
     "output_type": "stream",
     "text": [
      "[('G:\\\\My jupyterNote for python', ['.ipynb_checkpoints'], ['client.ipynb', 'Connecting Two system.ipynb', 'datascience firstclassssss....ipynb', 'File Handling.ipynb', 'File_Handling.ipynb', 'Functions.html', 'Functions.ipynb', 'Iterators and generators.ipynb', 'Oops(Class and Objects).ipynb', 'Oops2.ipynb', 'Socket Programming.ipynb', 'STL.cpp', 'Untitled.ipynb']), ('G:\\\\My jupyterNote for python\\\\.ipynb_checkpoints', [], ['Class_12-checkpoint.ipynb', 'client-checkpoint.ipynb', 'Connecting Two system-checkpoint.ipynb', 'datascience firstclassssss...-checkpoint.ipynb', 'File Handling-checkpoint.ipynb', 'File_Handling-checkpoint.ipynb', 'Functions-checkpoint.ipynb', 'Iterators and generators-checkpoint.ipynb', 'Oops(Class and Objects)-checkpoint.ipynb', 'Socket Programming-checkpoint.ipynb', 'Untitled-checkpoint.ipynb'])]\n"
     ]
    }
   ],
   "source": [
    "print(l)"
   ]
  },
  {
   "cell_type": "code",
   "execution_count": 5,
   "metadata": {},
   "outputs": [
    {
     "name": "stdout",
     "output_type": "stream",
     "text": [
      "enter path: G:\\\\python by sachin sir\n",
      "Yes File path is correct.\n"
     ]
    }
   ],
   "source": [
    "path=input(\"enter path: \")\n",
    "if os.path.exists(path):\n",
    "    print(\"Yes File path is correct.\")\n",
    "else:\n",
    "    print(\"Please Write correct file Path.\")"
   ]
  },
  {
   "cell_type": "code",
   "execution_count": 6,
   "metadata": {},
   "outputs": [
    {
     "name": "stdout",
     "output_type": "stream",
     "text": [
      "Enter path: G:\\\\python by sachin sir\n",
      "Entered path is the path of directory.\n"
     ]
    }
   ],
   "source": [
    "path=input(\"Enter path: \")\n",
    "if os.path.isfile(path):\n",
    "    print(\"Yes Enter Path is path of File\")\n",
    "else:\n",
    "    print(\"Entered path is the path of directory.\")"
   ]
  },
  {
   "cell_type": "code",
   "execution_count": 19,
   "metadata": {},
   "outputs": [
    {
     "name": "stdout",
     "output_type": "stream",
     "text": [
      "Enter path: G:\\\\python by sachin sir\n",
      "Yes! You can access the path.\n"
     ]
    }
   ],
   "source": [
    "path=input(\"Enter path: \")\n",
    "if os.access(path,0):\n",
    "    print(\"Yes! You can access the path.\")\n",
    "else:\n",
    "    print(\"Permission Denied!!!.\")"
   ]
  },
  {
   "cell_type": "code",
   "execution_count": 20,
   "metadata": {},
   "outputs": [
    {
     "name": "stdout",
     "output_type": "stream",
     "text": [
      "['DirEntry', 'F_OK', 'MutableMapping', 'O_APPEND', 'O_BINARY', 'O_CREAT', 'O_EXCL', 'O_NOINHERIT', 'O_RANDOM', 'O_RDONLY', 'O_RDWR', 'O_SEQUENTIAL', 'O_SHORT_LIVED', 'O_TEMPORARY', 'O_TEXT', 'O_TRUNC', 'O_WRONLY', 'P_DETACH', 'P_NOWAIT', 'P_NOWAITO', 'P_OVERLAY', 'P_WAIT', 'PathLike', 'R_OK', 'SEEK_CUR', 'SEEK_END', 'SEEK_SET', 'TMP_MAX', 'W_OK', 'X_OK', '_Environ', '__all__', '__builtins__', '__cached__', '__doc__', '__file__', '__loader__', '__name__', '__package__', '__spec__', '_execvpe', '_exists', '_exit', '_fspath', '_get_exports_list', '_putenv', '_unsetenv', '_wrap_close', 'abc', 'abort', 'access', 'altsep', 'chdir', 'chmod', 'close', 'closerange', 'cpu_count', 'curdir', 'defpath', 'device_encoding', 'devnull', 'dup', 'dup2', 'environ', 'errno', 'error', 'execl', 'execle', 'execlp', 'execlpe', 'execv', 'execve', 'execvp', 'execvpe', 'extsep', 'fdopen', 'fsdecode', 'fsencode', 'fspath', 'fstat', 'fsync', 'ftruncate', 'get_exec_path', 'get_handle_inheritable', 'get_inheritable', 'get_terminal_size', 'getcwd', 'getcwdb', 'getenv', 'getlogin', 'getpid', 'getppid', 'isatty', 'kill', 'linesep', 'link', 'listdir', 'lseek', 'lstat', 'makedirs', 'mkdir', 'name', 'open', 'pardir', 'path', 'pathsep', 'pipe', 'popen', 'putenv', 'read', 'readlink', 'remove', 'removedirs', 'rename', 'renames', 'replace', 'rmdir', 'scandir', 'sep', 'set_handle_inheritable', 'set_inheritable', 'spawnl', 'spawnle', 'spawnv', 'spawnve', 'st', 'startfile', 'stat', 'stat_float_times', 'stat_result', 'statvfs_result', 'strerror', 'supports_bytes_environ', 'supports_dir_fd', 'supports_effective_ids', 'supports_fd', 'supports_follow_symlinks', 'symlink', 'sys', 'system', 'terminal_size', 'times', 'times_result', 'truncate', 'umask', 'uname_result', 'unlink', 'urandom', 'utime', 'waitpid', 'walk', 'write']\n"
     ]
    }
   ],
   "source": [
    "print(dir(os))"
   ]
  },
  {
   "cell_type": "code",
   "execution_count": 21,
   "metadata": {},
   "outputs": [
    {
     "name": "stdout",
     "output_type": "stream",
     "text": [
      "G:\\My jupyterNote for python\n"
     ]
    }
   ],
   "source": [
    "print(os.getcwd())"
   ]
  },
  {
   "cell_type": "code",
   "execution_count": 28,
   "metadata": {},
   "outputs": [
    {
     "name": "stdout",
     "output_type": "stream",
     "text": [
      "Create a directory.\n",
      "\n",
      "If dir_fd is not None, it should be a file descriptor open to a directory,\n",
      "  and path should be relative; path will then be relative to that directory.\n",
      "dir_fd may not be implemented on your platform.\n",
      "  If it is unavailable, using it will raise a NotImplementedError.\n",
      "\n",
      "The mode argument is ignored on Windows.\n"
     ]
    }
   ],
   "source": [
    "print((os.mkdir.__doc__))"
   ]
  },
  {
   "cell_type": "code",
   "execution_count": 30,
   "metadata": {},
   "outputs": [
    {
     "ename": "FileExistsError",
     "evalue": "[WinError 183] Cannot create a file when that file already exists: 'G:\\\\mkdirTesting'",
     "output_type": "error",
     "traceback": [
      "\u001b[1;31m---------------------------------------------------------------------------\u001b[0m",
      "\u001b[1;31mFileExistsError\u001b[0m                           Traceback (most recent call last)",
      "\u001b[1;32m<ipython-input-30-bc59abe179ff>\u001b[0m in \u001b[0;36m<module>\u001b[1;34m()\u001b[0m\n\u001b[1;32m----> 1\u001b[1;33m \u001b[0mos\u001b[0m\u001b[1;33m.\u001b[0m\u001b[0mmkdir\u001b[0m\u001b[1;33m(\u001b[0m\u001b[1;34m'G:\\\\mkdirTesting'\u001b[0m\u001b[1;33m)\u001b[0m\u001b[1;33m\u001b[0m\u001b[0m\n\u001b[0m",
      "\u001b[1;31mFileExistsError\u001b[0m: [WinError 183] Cannot create a file when that file already exists: 'G:\\\\mkdirTesting'"
     ]
    }
   ],
   "source": [
    "os.mkdir('G:\\\\mkdirTesting')"
   ]
  },
  {
   "cell_type": "code",
   "execution_count": 33,
   "metadata": {},
   "outputs": [
    {
     "name": "stdout",
     "output_type": "stream",
     "text": [
      "G:\\mkdirTesting\n"
     ]
    }
   ],
   "source": [
    "os.chdir(\"G:\\\\mkdirTesting\")\n",
    "print(os.getcwd())"
   ]
  },
  {
   "cell_type": "code",
   "execution_count": 35,
   "metadata": {},
   "outputs": [
    {
     "name": "stdout",
     "output_type": "stream",
     "text": [
      "G:\\My jupyterNote for python\n"
     ]
    }
   ],
   "source": [
    "os.chdir(\"G:\\\\My jupyterNote for python\")\n",
    "print(os.getcwd())"
   ]
  },
  {
   "cell_type": "code",
   "execution_count": 27,
   "metadata": {},
   "outputs": [
    {
     "name": "stdout",
     "output_type": "stream",
     "text": [
      "makedirs(name [, mode=0o777][, exist_ok=False])\n",
      "\n",
      "    Super-mkdir; create a leaf directory and all intermediate ones.  Works like\n",
      "    mkdir, except that any intermediate path segment (not just the rightmost)\n",
      "    will be created if it does not exist. If the target directory already\n",
      "    exists, raise an OSError if exist_ok is False. Otherwise no exception is\n",
      "    raised.  This is recursive.\n",
      "\n",
      "    \n"
     ]
    }
   ],
   "source": [
    "print(os.makedirs.__doc__)"
   ]
  },
  {
   "cell_type": "code",
   "execution_count": 36,
   "metadata": {},
   "outputs": [],
   "source": [
    "os.chdir(\"G:\\\\mkdirTesting\")"
   ]
  },
  {
   "cell_type": "code",
   "execution_count": 37,
   "metadata": {},
   "outputs": [],
   "source": [
    "os.makedirs(\"/kalilinux/redhat\")# this both directory will create on our current working directory."
   ]
  },
  {
   "cell_type": "code",
   "execution_count": 39,
   "metadata": {},
   "outputs": [],
   "source": [
    "x=os.walk(os.getcwd())# it will create generator Object."
   ]
  },
  {
   "cell_type": "code",
   "execution_count": 40,
   "metadata": {},
   "outputs": [
    {
     "data": {
      "text/plain": [
       "('G:\\\\mkdirTesting', [], [])"
      ]
     },
     "execution_count": 40,
     "metadata": {},
     "output_type": "execute_result"
    }
   ],
   "source": [
    "next(x)"
   ]
  },
  {
   "cell_type": "code",
   "execution_count": 44,
   "metadata": {},
   "outputs": [],
   "source": [
    "os.rmdir(\"/kalilinux/redhat\")# it will remove only redhat directory"
   ]
  },
  {
   "cell_type": "code",
   "execution_count": 45,
   "metadata": {},
   "outputs": [],
   "source": [
    "os.removedirs(\"/kalilinux\") # it will remove all of the directory which is exist and given to the arguement."
   ]
  },
  {
   "cell_type": "raw",
   "metadata": {},
   "source": [
    "import shutil"
   ]
  },
  {
   "cell_type": "raw",
   "metadata": {},
   "source": [
    "shutil.rmtree(\"Targetfile\") # this will delete all the internal directory and file of the targeted directory permanently."
   ]
  },
  {
   "cell_type": "raw",
   "metadata": {},
   "source": [
    "shutil.copytree(\"Targetfile\",\"path/targetfilenameor(renamed file name)\")--> it will copy whole dir tree to the destination path.\n",
    "shutil.copy(\"Targetfile\",\"path/filename\") --> it will copy the file from target or destination.\n",
    "shutil.move(\"Targetfile\",\"Path/filename\") --> it will move the dir to the destination path"
   ]
  },
  {
   "cell_type": "markdown",
   "metadata": {},
   "source": [
    "# Sys Module"
   ]
  },
  {
   "cell_type": "raw",
   "metadata": {},
   "source": [
    "This module provides access to some variables used or maintained by the interpreter and to functions that interact strongly with the interpretr. It is always available.\n",
    "1. sys.ps1\n",
    "2. sys.ps2\n",
    "3. sys.getrecursionlimit\n",
    "4. sys.stdout\n",
    "5. sys.stdin\n",
    "6. sys.getswitchinterval\n",
    "7. sys.setrecursionlimit\n",
    "8. sys.setswitchinterval\n",
    "9. sys.stderr\n",
    "10.sys.argv\n",
    "11.sys.platform\n",
    "12.sys.path\n",
    "13.sys.module"
   ]
  },
  {
   "cell_type": "code",
   "execution_count": 1,
   "metadata": {},
   "outputs": [
    {
     "name": "stdout",
     "output_type": "stream",
     "text": [
      "['__displayhook__', '__doc__', '__excepthook__', '__interactivehook__', '__loader__', '__name__', '__package__', '__spec__', '__stderr__', '__stdin__', '__stdout__', '_clear_type_cache', '_current_frames', '_debugmallocstats', '_enablelegacywindowsfsencoding', '_getframe', '_git', '_home', '_xoptions', 'api_version', 'argv', 'base_exec_prefix', 'base_prefix', 'builtin_module_names', 'byteorder', 'call_tracing', 'callstats', 'copyright', 'displayhook', 'dllhandle', 'dont_write_bytecode', 'exc_info', 'excepthook', 'exec_prefix', 'executable', 'exit', 'flags', 'float_info', 'float_repr_style', 'get_asyncgen_hooks', 'get_coroutine_wrapper', 'getallocatedblocks', 'getcheckinterval', 'getdefaultencoding', 'getfilesystemencodeerrors', 'getfilesystemencoding', 'getprofile', 'getrecursionlimit', 'getrefcount', 'getsizeof', 'getswitchinterval', 'gettrace', 'getwindowsversion', 'hash_info', 'hexversion', 'implementation', 'int_info', 'intern', 'is_finalizing', 'maxsize', 'maxunicode', 'meta_path', 'modules', 'path', 'path_hooks', 'path_importer_cache', 'platform', 'prefix', 'ps1', 'ps2', 'ps3', 'set_asyncgen_hooks', 'set_coroutine_wrapper', 'setcheckinterval', 'setprofile', 'setrecursionlimit', 'setswitchinterval', 'settrace', 'stderr', 'stdin', 'stdout', 'thread_info', 'version', 'version_info', 'warnoptions', 'winver']\n"
     ]
    }
   ],
   "source": [
    "import sys\n",
    "print(dir(sys))"
   ]
  },
  {
   "cell_type": "code",
   "execution_count": 3,
   "metadata": {},
   "outputs": [
    {
     "ename": "TypeError",
     "evalue": "'_io.TextIOWrapper' object is not callable",
     "output_type": "error",
     "traceback": [
      "\u001b[1;31m---------------------------------------------------------------------------\u001b[0m",
      "\u001b[1;31mTypeError\u001b[0m                                 Traceback (most recent call last)",
      "\u001b[1;32m<ipython-input-3-4f49820b1673>\u001b[0m in \u001b[0;36m<module>\u001b[1;34m()\u001b[0m\n\u001b[1;32m----> 1\u001b[1;33m \u001b[0msys\u001b[0m\u001b[1;33m.\u001b[0m\u001b[0mstdin\u001b[0m\u001b[1;33m(\u001b[0m\u001b[1;34m\"Hello\"\u001b[0m\u001b[1;33m)\u001b[0m\u001b[1;33m\u001b[0m\u001b[0m\n\u001b[0m",
      "\u001b[1;31mTypeError\u001b[0m: '_io.TextIOWrapper' object is not callable"
     ]
    }
   ],
   "source": [
    "sy"
   ]
  },
  {
   "cell_type": "code",
   "execution_count": 4,
   "metadata": {
    "scrolled": true
   },
   "outputs": [
    {
     "data": {
      "text/plain": [
       "['__add__',\n",
       " '__class__',\n",
       " '__contains__',\n",
       " '__delattr__',\n",
       " '__dir__',\n",
       " '__doc__',\n",
       " '__eq__',\n",
       " '__format__',\n",
       " '__ge__',\n",
       " '__getattribute__',\n",
       " '__getitem__',\n",
       " '__getnewargs__',\n",
       " '__gt__',\n",
       " '__hash__',\n",
       " '__init__',\n",
       " '__init_subclass__',\n",
       " '__iter__',\n",
       " '__le__',\n",
       " '__len__',\n",
       " '__lt__',\n",
       " '__mul__',\n",
       " '__ne__',\n",
       " '__new__',\n",
       " '__reduce__',\n",
       " '__reduce_ex__',\n",
       " '__repr__',\n",
       " '__rmul__',\n",
       " '__setattr__',\n",
       " '__sizeof__',\n",
       " '__str__',\n",
       " '__subclasshook__',\n",
       " 'count',\n",
       " 'index']"
      ]
     },
     "execution_count": 4,
     "metadata": {},
     "output_type": "execute_result"
    }
   ],
   "source": [
    "dir(sys._git)"
   ]
  },
  {
   "cell_type": "code",
   "execution_count": 6,
   "metadata": {},
   "outputs": [
    {
     "name": "stdout",
     "output_type": "stream",
     "text": [
      "tuple() -> empty tuple\n",
      "tuple(iterable) -> tuple initialized from iterable's items\n",
      "\n",
      "If the argument is a tuple, the return value is the same object.\n"
     ]
    }
   ],
   "source": [
    "print(sys._git.__doc__)"
   ]
  },
  {
   "cell_type": "code",
   "execution_count": 2,
   "metadata": {},
   "outputs": [
    {
     "name": "stdout",
     "output_type": "stream",
     "text": [
      "Server is Running at 192.168.225.35 on port 9999 ...\n",
      "Request accepted from the address: ('192.168.225.35', 58340)\n",
      "dir\n",
      " Volume in drive G has no label.\n",
      " Volume Serial Number is 76B3-8996\n",
      "\n",
      " Directory of G:\\My jupyterNote for python\n",
      "\n",
      "21/02/2019  11:51 PM    <DIR>          .\n",
      "21/02/2019  11:51 PM    <DIR>          ..\n",
      "21/02/2019  10:00 PM    <DIR>          .ipynb_checkpoints\n",
      "20/02/2019  12:47 AM             2,092 client.ipynb\n",
      "20/02/2019  09:01 AM               555 datascience firstclassssss....ipynb\n",
      "18/02/2019  06:00 PM            28,231 File Handling.ipynb\n",
      "18/02/2019  01:26 PM            74,855 File_Handling.ipynb\n",
      "14/02/2019  06:06 PM           280,835 Functions.html\n",
      "17/02/2019  10:08 PM            22,205 Functions.ipynb\n",
      "20/02/2019  09:07 AM            18,137 Iterators and generators.ipynb\n",
      "18/02/2019  09:54 PM             6,359 Oops(Class and Objects).ipynb\n",
      "18/02/2019  07:20 PM            28,189 Oops2.ipynb\n",
      "21/02/2019  11:51 PM            22,796 Socket Programming.ipynb\n",
      "21/02/2019  09:52 AM             4,840 Statistics.ipynb\n",
      "15/02/2019  09:34 PM               111 STL.cpp\n",
      "21/02/2019  11:49 PM            18,075  \n",
      "dir\n",
      "sys,OS module and shutil.ipynb\n",
      "20/02/2019  09:38 PM             1,801 Untitled.ipynb\n",
      "              14 File(s)        509,081 bytes\n",
      "               3 Dir(s)  205,340,712,960 bytes free\n",
      "\n",
      "G:\\My jupyterNote for python>  quit\n"
     ]
    },
    {
     "ename": "SystemExit",
     "evalue": "",
     "output_type": "error",
     "traceback": [
      "An exception has occurred, use %tb to see the full traceback.\n",
      "\u001b[1;31mSystemExit\u001b[0m\n"
     ]
    },
    {
     "name": "stderr",
     "output_type": "stream",
     "text": [
      "C:\\Users\\Anjamul\\Anaconda3\\lib\\site-packages\\IPython\\core\\interactiveshell.py:2971: UserWarning: To exit: use 'exit', 'quit', or Ctrl-D.\n",
      "  warn(\"To exit: use 'exit', 'quit', or Ctrl-D.\", stacklevel=1)\n"
     ]
    }
   ],
   "source": [
    "import os\n",
    "import sys\n",
    "import socket\n",
    "\n",
    "#creating host\n",
    "host=socket.gethostbyname(socket.gethostname())\n",
    "port=9999\n",
    "\n",
    "#creating Socket\n",
    "server_socket=socket.socket(socket.AF_INET,socket.SOCK_STREAM)\n",
    "\n",
    "#Binding the server\n",
    "server_socket.bind((host,port))\n",
    "print(f\"Server is Running at {host} on port {port} ...\")\n",
    "server_socket.listen(5)\n",
    "\n",
    "\n",
    "#Accepting the request\n",
    "client_socket,addr=server_socket.accept()\n",
    "print(f\"Request accepted from the address: {addr}\")\n",
    "\n",
    "while True:\n",
    "    cmd=input()\n",
    "    if cmd=='quit' or cmd=='Quit' or cmd=='Exit'or cmd=='Exit':\n",
    "        server_socket.close()\n",
    "        client_socket.close()\n",
    "        sys.exit()\n",
    "    if len(cmd)>0:\n",
    "        client_socket.send(cmd.encode())\n",
    "        client_response=client_socket.recv(1024)\n",
    "        print(client_response.decode(),end=\" \")\n"
   ]
  },
  {
   "cell_type": "code",
   "execution_count": null,
   "metadata": {},
   "outputs": [],
   "source": []
  }
 ],
 "metadata": {
  "kernelspec": {
   "display_name": "Python 3",
   "language": "python",
   "name": "python3"
  },
  "language_info": {
   "codemirror_mode": {
    "name": "ipython",
    "version": 3
   },
   "file_extension": ".py",
   "mimetype": "text/x-python",
   "name": "python",
   "nbconvert_exporter": "python",
   "pygments_lexer": "ipython3",
   "version": "3.6.5"
  }
 },
 "nbformat": 4,
 "nbformat_minor": 2
}
