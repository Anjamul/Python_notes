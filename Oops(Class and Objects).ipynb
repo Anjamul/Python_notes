{
 "cells": [
  {
   "cell_type": "code",
   "execution_count": 16,
   "metadata": {},
   "outputs": [],
   "source": [
    "class A:\n",
    "    def hello(self):\n",
    "        print(\"Hello! World. I am a class\")"
   ]
  },
  {
   "cell_type": "code",
   "execution_count": 17,
   "metadata": {},
   "outputs": [],
   "source": [
    "obj=A()"
   ]
  },
  {
   "cell_type": "code",
   "execution_count": 18,
   "metadata": {},
   "outputs": [
    {
     "name": "stdout",
     "output_type": "stream",
     "text": [
      "Hello! World. I am a class\n"
     ]
    }
   ],
   "source": [
    "obj.hello()"
   ]
  },
  {
   "cell_type": "code",
   "execution_count": 22,
   "metadata": {},
   "outputs": [],
   "source": [
    "class Robot2pointO:\n",
    "    TotalRobot=0\n",
    "    def __init__(self,Robotname,RobotVersion):\n",
    "        self.Robotname=Robotname\n",
    "        self.RobotVersion=RobotVersion\n",
    "        Robot2pointO.TotalRobot+=1\n",
    "    def roboInfo(self):\n",
    "        print(\"Robot Name: \",self.Robotname)\n",
    "        print(\"Robot Version: \",self.RobotVersion)"
   ]
  },
  {
   "cell_type": "code",
   "execution_count": 23,
   "metadata": {},
   "outputs": [],
   "source": [
    "R1=Robot2pointO(\"Chitti\",1.0)\n",
    "R2=Robot2pointO(\"Robot 2.0\",2.0)"
   ]
  },
  {
   "cell_type": "code",
   "execution_count": 24,
   "metadata": {},
   "outputs": [
    {
     "name": "stdout",
     "output_type": "stream",
     "text": [
      "Robot Name:  Chitti\n",
      "Robot Version:  1.0\n"
     ]
    }
   ],
   "source": [
    "R1.roboInfo()"
   ]
  },
  {
   "cell_type": "code",
   "execution_count": 25,
   "metadata": {},
   "outputs": [
    {
     "data": {
      "text/plain": [
       "2"
      ]
     },
     "execution_count": 25,
     "metadata": {},
     "output_type": "execute_result"
    }
   ],
   "source": [
    "R1.TotalRobot"
   ]
  },
  {
   "cell_type": "code",
   "execution_count": 27,
   "metadata": {},
   "outputs": [
    {
     "name": "stdout",
     "output_type": "stream",
     "text": [
      "Robot Name:  Robot 2.0\n",
      "Robot Version:  2.0\n"
     ]
    }
   ],
   "source": [
    "R2.roboInfo()"
   ]
  },
  {
   "cell_type": "code",
   "execution_count": 42,
   "metadata": {},
   "outputs": [],
   "source": [
    "class AdvancedRobot:\n",
    "    TotalRobot=0\n",
    "    def __init__(self,name,version):\n",
    "        self.name=name\n",
    "        self.version=version\n",
    "        AdvancedRobot.TotalRobot+=1\n",
    "    def giveIntroduction(self):\n",
    "        print(f\"Hello! World, I am the {self.name} Version {self.version}\")\n",
    "        print(\"I can do a lot of thing in such as:\\n1. Add\\n2. Multiplication\\n3. Division\\n\\nNext Version will be come with more advanced feature.\")\n",
    "    def totalRobot(self):\n",
    "        print(f\"There are {AdvancedRobot.TotalRobot} Robots in my family including me.\")\n",
    "    def add(self,a,b):\n",
    "        print(f\"Operation is performed by Robot {self.name}\")\n",
    "        return a+b\n",
    "    def mult(self,a,b):\n",
    "        print(f\"Operation is performed by Robot {self.name}\")\n",
    "        return a*b\n",
    "    def div(self,a,b):\n",
    "        print(f\"Operation is performed by Robot {self.name}\")\n",
    "        return a//b"
   ]
  },
  {
   "cell_type": "code",
   "execution_count": 43,
   "metadata": {},
   "outputs": [],
   "source": [
    "R1=AdvancedRobot(\"Chitti\",1.0)"
   ]
  },
  {
   "cell_type": "code",
   "execution_count": 50,
   "metadata": {},
   "outputs": [],
   "source": [
    "R2=AdvancedRobot(\"Robot 2.0\",2.0)\n",
    "R3=AdvancedRobot(\"Scintic\",2.1)"
   ]
  },
  {
   "cell_type": "code",
   "execution_count": 51,
   "metadata": {},
   "outputs": [
    {
     "name": "stdout",
     "output_type": "stream",
     "text": [
      "Hello! World, I am the Chitti Version 1.0\n",
      "I can do a lot of thing in such as:\n",
      "1. Add\n",
      "2. Multiplication\n",
      "3. Division\n",
      "\n",
      "Next Version will be come with more advanced feature.\n"
     ]
    }
   ],
   "source": [
    "R1.giveIntroduction()"
   ]
  },
  {
   "cell_type": "code",
   "execution_count": 52,
   "metadata": {},
   "outputs": [
    {
     "name": "stdout",
     "output_type": "stream",
     "text": [
      "There are 5 Robots in my family including me.\n"
     ]
    }
   ],
   "source": [
    "R1.totalRobot()"
   ]
  },
  {
   "cell_type": "code",
   "execution_count": 53,
   "metadata": {},
   "outputs": [
    {
     "name": "stdout",
     "output_type": "stream",
     "text": [
      "Operation is performed by Robot Chitti\n"
     ]
    },
    {
     "data": {
      "text/plain": [
       "23"
      ]
     },
     "execution_count": 53,
     "metadata": {},
     "output_type": "execute_result"
    }
   ],
   "source": [
    "R1.add(10,13)"
   ]
  },
  {
   "cell_type": "code",
   "execution_count": 54,
   "metadata": {},
   "outputs": [
    {
     "name": "stdout",
     "output_type": "stream",
     "text": [
      "Operation is performed by Robot Scintic\n"
     ]
    },
    {
     "data": {
      "text/plain": [
       "920"
      ]
     },
     "execution_count": 54,
     "metadata": {},
     "output_type": "execute_result"
    }
   ],
   "source": [
    "R3.mult(40,23)"
   ]
  },
  {
   "cell_type": "code",
   "execution_count": 55,
   "metadata": {},
   "outputs": [
    {
     "name": "stdout",
     "output_type": "stream",
     "text": [
      "Operation is performed by Robot Robot 2.0\n"
     ]
    },
    {
     "data": {
      "text/plain": [
       "68"
      ]
     },
     "execution_count": 55,
     "metadata": {},
     "output_type": "execute_result"
    }
   ],
   "source": [
    "R2.add(23,45)"
   ]
  },
  {
   "cell_type": "code",
   "execution_count": null,
   "metadata": {},
   "outputs": [],
   "source": []
  }
 ],
 "metadata": {
  "kernelspec": {
   "display_name": "Python 3",
   "language": "python",
   "name": "python3"
  },
  "language_info": {
   "codemirror_mode": {
    "name": "ipython",
    "version": 3
   },
   "file_extension": ".py",
   "mimetype": "text/x-python",
   "name": "python",
   "nbconvert_exporter": "python",
   "pygments_lexer": "ipython3",
   "version": "3.6.5"
  }
 },
 "nbformat": 4,
 "nbformat_minor": 2
}
