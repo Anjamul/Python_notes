{
 "cells": [
  {
   "cell_type": "code",
   "execution_count": 2,
   "metadata": {},
   "outputs": [
    {
     "name": "stdout",
     "output_type": "stream",
     "text": [
      "\t\tServer -->  Hello World\n",
      "\n",
      "clientHello Mars\n",
      "\t\tServer -->  kali linux\n",
      "\n",
      "clientRed hat server\n",
      "\t\tServer -->  bye\n",
      "Connection Closed by server.\n"
     ]
    }
   ],
   "source": [
    "import socket\n",
    "server_socket=socket.socket(socket.AF_INET,socket.SOCK_STREAM)\n",
    "host=\"192.168.225.35\"\n",
    "port=9999\n",
    "\n",
    "server_socket.connect((host,port))\n",
    "while True:\n",
    "    c_msg=server_socket.recv(1024)\n",
    "    print(\"\\t\\tServer --> \",c_msg.decode())\n",
    "    if c_msg.decode().strip().lower() == 'bye':\n",
    "        print(\"Connection Closed by server.\")\n",
    "        server_socket.close()\n",
    "        break\n",
    "    msg = input(\"\\nclient --> \")\n",
    "    server_socket.send(msg.encode())\n",
    "    if msg.strip().lower() == 'bye':\n",
    "        server_socket.send(msg.encode())\n",
    "        print(\"Connection is closed by the client.\")\n",
    "        server_socket.close()\n",
    "        break"
   ]
  },
  {
   "cell_type": "code",
   "execution_count": null,
   "metadata": {},
   "outputs": [],
   "source": []
  }
 ],
 "metadata": {
  "kernelspec": {
   "display_name": "Python 3",
   "language": "python",
   "name": "python3"
  },
  "language_info": {
   "codemirror_mode": {
    "name": "ipython",
    "version": 3
   },
   "file_extension": ".py",
   "mimetype": "text/x-python",
   "name": "python",
   "nbconvert_exporter": "python",
   "pygments_lexer": "ipython3",
   "version": "3.6.5"
  }
 },
 "nbformat": 4,
 "nbformat_minor": 2
}
